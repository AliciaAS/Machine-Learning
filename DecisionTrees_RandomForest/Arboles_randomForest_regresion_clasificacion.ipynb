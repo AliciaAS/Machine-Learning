{
 "cells": [
  {
   "cell_type": "markdown",
   "metadata": {
    "id": "vkPq8G1U_Il6"
   },
   "source": [
    "# <center>Aprendizaje Automático </center>                             \n",
    "## <center><b>  Árboles y random forest para regresión y clasificación </b></center>\n",
    "<center><b> Equipo: </b></center>  \n",
    "<center><b> Alicia Amores Sánchez </b></center> \n",
    "<center><b> Eduardo Reyero Ibáñez </b></center>\n",
    "<center><b> Gerard Vazquez Rubio </b></center>\n",
    "<center><b> Hector Lopez Almazan </b></center>\n",
    "<center><b> Javier Fernandez Lasso </b></center>"
   ]
  },
  {
   "cell_type": "code",
   "execution_count": 1,
   "metadata": {
    "executionInfo": {
     "elapsed": 2456,
     "status": "ok",
     "timestamp": 1611862317739,
     "user": {
      "displayName": "javier fernandez lasso",
      "photoUrl": "https://lh3.googleusercontent.com/a-/AOh14Gjka-wqbaXM4i9Mwuy-Q1w3uwgDweCVIgzyCok6HWM=s64",
      "userId": "08405858041863855651"
     },
     "user_tz": -60
    },
    "id": "lrnPNEpC_ImA"
   },
   "outputs": [],
   "source": [
    "# Import libraries\n",
    "import pandas as pd\n",
    "import numpy as np\n",
    "import missingno\n",
    "import matplotlib.pyplot as plt\n",
    "from sklearn.model_selection import train_test_split\n",
    "from sklearn.tree import DecisionTreeRegressor,DecisionTreeClassifier\n",
    "from sklearn import tree\n",
    "from sklearn.metrics import mean_squared_error, accuracy_score, confusion_matrix, r2_score\n",
    "from sklearn.ensemble import RandomForestClassifier, RandomForestRegressor"
   ]
  },
  {
   "cell_type": "markdown",
   "metadata": {
    "id": "qTfKymy2_ImA"
   },
   "source": [
    "Leer los datos los datos del USA Housing Dataset:"
   ]
  },
  {
   "cell_type": "code",
   "execution_count": 2,
   "metadata": {
    "colab": {
     "base_uri": "https://localhost:8080/",
     "height": 256
    },
    "executionInfo": {
     "elapsed": 880,
     "status": "ok",
     "timestamp": 1611862395952,
     "user": {
      "displayName": "javier fernandez lasso",
      "photoUrl": "https://lh3.googleusercontent.com/a-/AOh14Gjka-wqbaXM4i9Mwuy-Q1w3uwgDweCVIgzyCok6HWM=s64",
      "userId": "08405858041863855651"
     },
     "user_tz": -60
    },
    "id": "ObyBId-N_ImC",
    "outputId": "572abc07-692f-473d-97f2-d5a56a658f4d"
   },
   "outputs": [
    {
     "data": {
      "text/html": [
       "<div>\n",
       "<style scoped>\n",
       "    .dataframe tbody tr th:only-of-type {\n",
       "        vertical-align: middle;\n",
       "    }\n",
       "\n",
       "    .dataframe tbody tr th {\n",
       "        vertical-align: top;\n",
       "    }\n",
       "\n",
       "    .dataframe thead th {\n",
       "        text-align: right;\n",
       "    }\n",
       "</style>\n",
       "<table border=\"1\" class=\"dataframe\">\n",
       "  <thead>\n",
       "    <tr style=\"text-align: right;\">\n",
       "      <th></th>\n",
       "      <th>Id</th>\n",
       "      <th>MSSubClass</th>\n",
       "      <th>MSZoning</th>\n",
       "      <th>LotFrontage</th>\n",
       "      <th>LotArea</th>\n",
       "      <th>Street</th>\n",
       "      <th>Alley</th>\n",
       "      <th>LotShape</th>\n",
       "      <th>LandContour</th>\n",
       "      <th>Utilities</th>\n",
       "      <th>...</th>\n",
       "      <th>PoolArea</th>\n",
       "      <th>PoolQC</th>\n",
       "      <th>Fence</th>\n",
       "      <th>MiscFeature</th>\n",
       "      <th>MiscVal</th>\n",
       "      <th>MoSold</th>\n",
       "      <th>YrSold</th>\n",
       "      <th>SaleType</th>\n",
       "      <th>SaleCondition</th>\n",
       "      <th>SalePrice</th>\n",
       "    </tr>\n",
       "  </thead>\n",
       "  <tbody>\n",
       "    <tr>\n",
       "      <th>0</th>\n",
       "      <td>1</td>\n",
       "      <td>60</td>\n",
       "      <td>RL</td>\n",
       "      <td>65.0</td>\n",
       "      <td>8450</td>\n",
       "      <td>Pave</td>\n",
       "      <td>NaN</td>\n",
       "      <td>Reg</td>\n",
       "      <td>Lvl</td>\n",
       "      <td>AllPub</td>\n",
       "      <td>...</td>\n",
       "      <td>0</td>\n",
       "      <td>NaN</td>\n",
       "      <td>NaN</td>\n",
       "      <td>NaN</td>\n",
       "      <td>0</td>\n",
       "      <td>2</td>\n",
       "      <td>2008</td>\n",
       "      <td>WD</td>\n",
       "      <td>Normal</td>\n",
       "      <td>208500</td>\n",
       "    </tr>\n",
       "    <tr>\n",
       "      <th>1</th>\n",
       "      <td>2</td>\n",
       "      <td>20</td>\n",
       "      <td>RL</td>\n",
       "      <td>80.0</td>\n",
       "      <td>9600</td>\n",
       "      <td>Pave</td>\n",
       "      <td>NaN</td>\n",
       "      <td>Reg</td>\n",
       "      <td>Lvl</td>\n",
       "      <td>AllPub</td>\n",
       "      <td>...</td>\n",
       "      <td>0</td>\n",
       "      <td>NaN</td>\n",
       "      <td>NaN</td>\n",
       "      <td>NaN</td>\n",
       "      <td>0</td>\n",
       "      <td>5</td>\n",
       "      <td>2007</td>\n",
       "      <td>WD</td>\n",
       "      <td>Normal</td>\n",
       "      <td>181500</td>\n",
       "    </tr>\n",
       "    <tr>\n",
       "      <th>2</th>\n",
       "      <td>3</td>\n",
       "      <td>60</td>\n",
       "      <td>RL</td>\n",
       "      <td>68.0</td>\n",
       "      <td>11250</td>\n",
       "      <td>Pave</td>\n",
       "      <td>NaN</td>\n",
       "      <td>IR1</td>\n",
       "      <td>Lvl</td>\n",
       "      <td>AllPub</td>\n",
       "      <td>...</td>\n",
       "      <td>0</td>\n",
       "      <td>NaN</td>\n",
       "      <td>NaN</td>\n",
       "      <td>NaN</td>\n",
       "      <td>0</td>\n",
       "      <td>9</td>\n",
       "      <td>2008</td>\n",
       "      <td>WD</td>\n",
       "      <td>Normal</td>\n",
       "      <td>223500</td>\n",
       "    </tr>\n",
       "    <tr>\n",
       "      <th>3</th>\n",
       "      <td>4</td>\n",
       "      <td>70</td>\n",
       "      <td>RL</td>\n",
       "      <td>60.0</td>\n",
       "      <td>9550</td>\n",
       "      <td>Pave</td>\n",
       "      <td>NaN</td>\n",
       "      <td>IR1</td>\n",
       "      <td>Lvl</td>\n",
       "      <td>AllPub</td>\n",
       "      <td>...</td>\n",
       "      <td>0</td>\n",
       "      <td>NaN</td>\n",
       "      <td>NaN</td>\n",
       "      <td>NaN</td>\n",
       "      <td>0</td>\n",
       "      <td>2</td>\n",
       "      <td>2006</td>\n",
       "      <td>WD</td>\n",
       "      <td>Abnorml</td>\n",
       "      <td>140000</td>\n",
       "    </tr>\n",
       "    <tr>\n",
       "      <th>4</th>\n",
       "      <td>5</td>\n",
       "      <td>60</td>\n",
       "      <td>RL</td>\n",
       "      <td>84.0</td>\n",
       "      <td>14260</td>\n",
       "      <td>Pave</td>\n",
       "      <td>NaN</td>\n",
       "      <td>IR1</td>\n",
       "      <td>Lvl</td>\n",
       "      <td>AllPub</td>\n",
       "      <td>...</td>\n",
       "      <td>0</td>\n",
       "      <td>NaN</td>\n",
       "      <td>NaN</td>\n",
       "      <td>NaN</td>\n",
       "      <td>0</td>\n",
       "      <td>12</td>\n",
       "      <td>2008</td>\n",
       "      <td>WD</td>\n",
       "      <td>Normal</td>\n",
       "      <td>250000</td>\n",
       "    </tr>\n",
       "  </tbody>\n",
       "</table>\n",
       "<p>5 rows × 81 columns</p>\n",
       "</div>"
      ],
      "text/plain": [
       "   Id  MSSubClass MSZoning  LotFrontage  LotArea Street Alley LotShape  \\\n",
       "0   1          60       RL         65.0     8450   Pave   NaN      Reg   \n",
       "1   2          20       RL         80.0     9600   Pave   NaN      Reg   \n",
       "2   3          60       RL         68.0    11250   Pave   NaN      IR1   \n",
       "3   4          70       RL         60.0     9550   Pave   NaN      IR1   \n",
       "4   5          60       RL         84.0    14260   Pave   NaN      IR1   \n",
       "\n",
       "  LandContour Utilities  ... PoolArea PoolQC Fence MiscFeature MiscVal MoSold  \\\n",
       "0         Lvl    AllPub  ...        0    NaN   NaN         NaN       0      2   \n",
       "1         Lvl    AllPub  ...        0    NaN   NaN         NaN       0      5   \n",
       "2         Lvl    AllPub  ...        0    NaN   NaN         NaN       0      9   \n",
       "3         Lvl    AllPub  ...        0    NaN   NaN         NaN       0      2   \n",
       "4         Lvl    AllPub  ...        0    NaN   NaN         NaN       0     12   \n",
       "\n",
       "  YrSold  SaleType  SaleCondition  SalePrice  \n",
       "0   2008        WD         Normal     208500  \n",
       "1   2007        WD         Normal     181500  \n",
       "2   2008        WD         Normal     223500  \n",
       "3   2006        WD        Abnorml     140000  \n",
       "4   2008        WD         Normal     250000  \n",
       "\n",
       "[5 rows x 81 columns]"
      ]
     },
     "execution_count": 2,
     "metadata": {},
     "output_type": "execute_result"
    }
   ],
   "source": [
    "# Importar dataset\n",
    "housing_df = pd.read_csv('housing_train.csv')\n",
    "housing_df.head()"
   ]
  },
  {
   "cell_type": "markdown",
   "metadata": {
    "id": "86pOQMLS_ImC"
   },
   "source": [
    "# 1. Análisis descriptivo de los datos:"
   ]
  },
  {
   "cell_type": "markdown",
   "metadata": {
    "id": "gJDXXI-M_ImE"
   },
   "source": [
    "<b>Variables numéricas:</b>"
   ]
  },
  {
   "cell_type": "code",
   "execution_count": 3,
   "metadata": {
    "colab": {
     "base_uri": "https://localhost:8080/",
     "height": 1000
    },
    "executionInfo": {
     "elapsed": 1038,
     "status": "ok",
     "timestamp": 1611862402917,
     "user": {
      "displayName": "javier fernandez lasso",
      "photoUrl": "https://lh3.googleusercontent.com/a-/AOh14Gjka-wqbaXM4i9Mwuy-Q1w3uwgDweCVIgzyCok6HWM=s64",
      "userId": "08405858041863855651"
     },
     "user_tz": -60
    },
    "id": "y0cNyEsC_ImE",
    "outputId": "5204d7c4-2ff5-4fe7-8c86-27a80f17f08f"
   },
   "outputs": [
    {
     "data": {
      "text/html": [
       "<div>\n",
       "<style scoped>\n",
       "    .dataframe tbody tr th:only-of-type {\n",
       "        vertical-align: middle;\n",
       "    }\n",
       "\n",
       "    .dataframe tbody tr th {\n",
       "        vertical-align: top;\n",
       "    }\n",
       "\n",
       "    .dataframe thead th {\n",
       "        text-align: right;\n",
       "    }\n",
       "</style>\n",
       "<table border=\"1\" class=\"dataframe\">\n",
       "  <thead>\n",
       "    <tr style=\"text-align: right;\">\n",
       "      <th></th>\n",
       "      <th>count</th>\n",
       "      <th>mean</th>\n",
       "      <th>std</th>\n",
       "      <th>min</th>\n",
       "      <th>25%</th>\n",
       "      <th>50%</th>\n",
       "      <th>75%</th>\n",
       "      <th>max</th>\n",
       "      <th>median</th>\n",
       "    </tr>\n",
       "  </thead>\n",
       "  <tbody>\n",
       "    <tr>\n",
       "      <th>Id</th>\n",
       "      <td>1460.0</td>\n",
       "      <td>730.500000</td>\n",
       "      <td>421.610009</td>\n",
       "      <td>1.0</td>\n",
       "      <td>365.75</td>\n",
       "      <td>730.5</td>\n",
       "      <td>1095.25</td>\n",
       "      <td>1460.0</td>\n",
       "      <td>730.5</td>\n",
       "    </tr>\n",
       "    <tr>\n",
       "      <th>MSSubClass</th>\n",
       "      <td>1460.0</td>\n",
       "      <td>56.897260</td>\n",
       "      <td>42.300571</td>\n",
       "      <td>20.0</td>\n",
       "      <td>20.00</td>\n",
       "      <td>50.0</td>\n",
       "      <td>70.00</td>\n",
       "      <td>190.0</td>\n",
       "      <td>50.0</td>\n",
       "    </tr>\n",
       "    <tr>\n",
       "      <th>LotFrontage</th>\n",
       "      <td>1201.0</td>\n",
       "      <td>70.049958</td>\n",
       "      <td>24.284752</td>\n",
       "      <td>21.0</td>\n",
       "      <td>59.00</td>\n",
       "      <td>69.0</td>\n",
       "      <td>80.00</td>\n",
       "      <td>313.0</td>\n",
       "      <td>69.0</td>\n",
       "    </tr>\n",
       "    <tr>\n",
       "      <th>LotArea</th>\n",
       "      <td>1460.0</td>\n",
       "      <td>10516.828082</td>\n",
       "      <td>9981.264932</td>\n",
       "      <td>1300.0</td>\n",
       "      <td>7553.50</td>\n",
       "      <td>9478.5</td>\n",
       "      <td>11601.50</td>\n",
       "      <td>215245.0</td>\n",
       "      <td>9478.5</td>\n",
       "    </tr>\n",
       "    <tr>\n",
       "      <th>OverallQual</th>\n",
       "      <td>1460.0</td>\n",
       "      <td>6.099315</td>\n",
       "      <td>1.382997</td>\n",
       "      <td>1.0</td>\n",
       "      <td>5.00</td>\n",
       "      <td>6.0</td>\n",
       "      <td>7.00</td>\n",
       "      <td>10.0</td>\n",
       "      <td>6.0</td>\n",
       "    </tr>\n",
       "    <tr>\n",
       "      <th>OverallCond</th>\n",
       "      <td>1460.0</td>\n",
       "      <td>5.575342</td>\n",
       "      <td>1.112799</td>\n",
       "      <td>1.0</td>\n",
       "      <td>5.00</td>\n",
       "      <td>5.0</td>\n",
       "      <td>6.00</td>\n",
       "      <td>9.0</td>\n",
       "      <td>5.0</td>\n",
       "    </tr>\n",
       "    <tr>\n",
       "      <th>YearBuilt</th>\n",
       "      <td>1460.0</td>\n",
       "      <td>1971.267808</td>\n",
       "      <td>30.202904</td>\n",
       "      <td>1872.0</td>\n",
       "      <td>1954.00</td>\n",
       "      <td>1973.0</td>\n",
       "      <td>2000.00</td>\n",
       "      <td>2010.0</td>\n",
       "      <td>1973.0</td>\n",
       "    </tr>\n",
       "    <tr>\n",
       "      <th>YearRemodAdd</th>\n",
       "      <td>1460.0</td>\n",
       "      <td>1984.865753</td>\n",
       "      <td>20.645407</td>\n",
       "      <td>1950.0</td>\n",
       "      <td>1967.00</td>\n",
       "      <td>1994.0</td>\n",
       "      <td>2004.00</td>\n",
       "      <td>2010.0</td>\n",
       "      <td>1994.0</td>\n",
       "    </tr>\n",
       "    <tr>\n",
       "      <th>MasVnrArea</th>\n",
       "      <td>1452.0</td>\n",
       "      <td>103.685262</td>\n",
       "      <td>181.066207</td>\n",
       "      <td>0.0</td>\n",
       "      <td>0.00</td>\n",
       "      <td>0.0</td>\n",
       "      <td>166.00</td>\n",
       "      <td>1600.0</td>\n",
       "      <td>0.0</td>\n",
       "    </tr>\n",
       "    <tr>\n",
       "      <th>BsmtFinSF1</th>\n",
       "      <td>1460.0</td>\n",
       "      <td>443.639726</td>\n",
       "      <td>456.098091</td>\n",
       "      <td>0.0</td>\n",
       "      <td>0.00</td>\n",
       "      <td>383.5</td>\n",
       "      <td>712.25</td>\n",
       "      <td>5644.0</td>\n",
       "      <td>383.5</td>\n",
       "    </tr>\n",
       "    <tr>\n",
       "      <th>BsmtFinSF2</th>\n",
       "      <td>1460.0</td>\n",
       "      <td>46.549315</td>\n",
       "      <td>161.319273</td>\n",
       "      <td>0.0</td>\n",
       "      <td>0.00</td>\n",
       "      <td>0.0</td>\n",
       "      <td>0.00</td>\n",
       "      <td>1474.0</td>\n",
       "      <td>0.0</td>\n",
       "    </tr>\n",
       "    <tr>\n",
       "      <th>BsmtUnfSF</th>\n",
       "      <td>1460.0</td>\n",
       "      <td>567.240411</td>\n",
       "      <td>441.866955</td>\n",
       "      <td>0.0</td>\n",
       "      <td>223.00</td>\n",
       "      <td>477.5</td>\n",
       "      <td>808.00</td>\n",
       "      <td>2336.0</td>\n",
       "      <td>477.5</td>\n",
       "    </tr>\n",
       "    <tr>\n",
       "      <th>TotalBsmtSF</th>\n",
       "      <td>1460.0</td>\n",
       "      <td>1057.429452</td>\n",
       "      <td>438.705324</td>\n",
       "      <td>0.0</td>\n",
       "      <td>795.75</td>\n",
       "      <td>991.5</td>\n",
       "      <td>1298.25</td>\n",
       "      <td>6110.0</td>\n",
       "      <td>991.5</td>\n",
       "    </tr>\n",
       "    <tr>\n",
       "      <th>1stFlrSF</th>\n",
       "      <td>1460.0</td>\n",
       "      <td>1162.626712</td>\n",
       "      <td>386.587738</td>\n",
       "      <td>334.0</td>\n",
       "      <td>882.00</td>\n",
       "      <td>1087.0</td>\n",
       "      <td>1391.25</td>\n",
       "      <td>4692.0</td>\n",
       "      <td>1087.0</td>\n",
       "    </tr>\n",
       "    <tr>\n",
       "      <th>2ndFlrSF</th>\n",
       "      <td>1460.0</td>\n",
       "      <td>346.992466</td>\n",
       "      <td>436.528436</td>\n",
       "      <td>0.0</td>\n",
       "      <td>0.00</td>\n",
       "      <td>0.0</td>\n",
       "      <td>728.00</td>\n",
       "      <td>2065.0</td>\n",
       "      <td>0.0</td>\n",
       "    </tr>\n",
       "    <tr>\n",
       "      <th>LowQualFinSF</th>\n",
       "      <td>1460.0</td>\n",
       "      <td>5.844521</td>\n",
       "      <td>48.623081</td>\n",
       "      <td>0.0</td>\n",
       "      <td>0.00</td>\n",
       "      <td>0.0</td>\n",
       "      <td>0.00</td>\n",
       "      <td>572.0</td>\n",
       "      <td>0.0</td>\n",
       "    </tr>\n",
       "    <tr>\n",
       "      <th>GrLivArea</th>\n",
       "      <td>1460.0</td>\n",
       "      <td>1515.463699</td>\n",
       "      <td>525.480383</td>\n",
       "      <td>334.0</td>\n",
       "      <td>1129.50</td>\n",
       "      <td>1464.0</td>\n",
       "      <td>1776.75</td>\n",
       "      <td>5642.0</td>\n",
       "      <td>1464.0</td>\n",
       "    </tr>\n",
       "    <tr>\n",
       "      <th>BsmtFullBath</th>\n",
       "      <td>1460.0</td>\n",
       "      <td>0.425342</td>\n",
       "      <td>0.518911</td>\n",
       "      <td>0.0</td>\n",
       "      <td>0.00</td>\n",
       "      <td>0.0</td>\n",
       "      <td>1.00</td>\n",
       "      <td>3.0</td>\n",
       "      <td>0.0</td>\n",
       "    </tr>\n",
       "    <tr>\n",
       "      <th>BsmtHalfBath</th>\n",
       "      <td>1460.0</td>\n",
       "      <td>0.057534</td>\n",
       "      <td>0.238753</td>\n",
       "      <td>0.0</td>\n",
       "      <td>0.00</td>\n",
       "      <td>0.0</td>\n",
       "      <td>0.00</td>\n",
       "      <td>2.0</td>\n",
       "      <td>0.0</td>\n",
       "    </tr>\n",
       "    <tr>\n",
       "      <th>FullBath</th>\n",
       "      <td>1460.0</td>\n",
       "      <td>1.565068</td>\n",
       "      <td>0.550916</td>\n",
       "      <td>0.0</td>\n",
       "      <td>1.00</td>\n",
       "      <td>2.0</td>\n",
       "      <td>2.00</td>\n",
       "      <td>3.0</td>\n",
       "      <td>2.0</td>\n",
       "    </tr>\n",
       "    <tr>\n",
       "      <th>HalfBath</th>\n",
       "      <td>1460.0</td>\n",
       "      <td>0.382877</td>\n",
       "      <td>0.502885</td>\n",
       "      <td>0.0</td>\n",
       "      <td>0.00</td>\n",
       "      <td>0.0</td>\n",
       "      <td>1.00</td>\n",
       "      <td>2.0</td>\n",
       "      <td>0.0</td>\n",
       "    </tr>\n",
       "    <tr>\n",
       "      <th>BedroomAbvGr</th>\n",
       "      <td>1460.0</td>\n",
       "      <td>2.866438</td>\n",
       "      <td>0.815778</td>\n",
       "      <td>0.0</td>\n",
       "      <td>2.00</td>\n",
       "      <td>3.0</td>\n",
       "      <td>3.00</td>\n",
       "      <td>8.0</td>\n",
       "      <td>3.0</td>\n",
       "    </tr>\n",
       "    <tr>\n",
       "      <th>KitchenAbvGr</th>\n",
       "      <td>1460.0</td>\n",
       "      <td>1.046575</td>\n",
       "      <td>0.220338</td>\n",
       "      <td>0.0</td>\n",
       "      <td>1.00</td>\n",
       "      <td>1.0</td>\n",
       "      <td>1.00</td>\n",
       "      <td>3.0</td>\n",
       "      <td>1.0</td>\n",
       "    </tr>\n",
       "    <tr>\n",
       "      <th>TotRmsAbvGrd</th>\n",
       "      <td>1460.0</td>\n",
       "      <td>6.517808</td>\n",
       "      <td>1.625393</td>\n",
       "      <td>2.0</td>\n",
       "      <td>5.00</td>\n",
       "      <td>6.0</td>\n",
       "      <td>7.00</td>\n",
       "      <td>14.0</td>\n",
       "      <td>6.0</td>\n",
       "    </tr>\n",
       "    <tr>\n",
       "      <th>Fireplaces</th>\n",
       "      <td>1460.0</td>\n",
       "      <td>0.613014</td>\n",
       "      <td>0.644666</td>\n",
       "      <td>0.0</td>\n",
       "      <td>0.00</td>\n",
       "      <td>1.0</td>\n",
       "      <td>1.00</td>\n",
       "      <td>3.0</td>\n",
       "      <td>1.0</td>\n",
       "    </tr>\n",
       "    <tr>\n",
       "      <th>GarageYrBlt</th>\n",
       "      <td>1379.0</td>\n",
       "      <td>1978.506164</td>\n",
       "      <td>24.689725</td>\n",
       "      <td>1900.0</td>\n",
       "      <td>1961.00</td>\n",
       "      <td>1980.0</td>\n",
       "      <td>2002.00</td>\n",
       "      <td>2010.0</td>\n",
       "      <td>1980.0</td>\n",
       "    </tr>\n",
       "    <tr>\n",
       "      <th>GarageCars</th>\n",
       "      <td>1460.0</td>\n",
       "      <td>1.767123</td>\n",
       "      <td>0.747315</td>\n",
       "      <td>0.0</td>\n",
       "      <td>1.00</td>\n",
       "      <td>2.0</td>\n",
       "      <td>2.00</td>\n",
       "      <td>4.0</td>\n",
       "      <td>2.0</td>\n",
       "    </tr>\n",
       "    <tr>\n",
       "      <th>GarageArea</th>\n",
       "      <td>1460.0</td>\n",
       "      <td>472.980137</td>\n",
       "      <td>213.804841</td>\n",
       "      <td>0.0</td>\n",
       "      <td>334.50</td>\n",
       "      <td>480.0</td>\n",
       "      <td>576.00</td>\n",
       "      <td>1418.0</td>\n",
       "      <td>480.0</td>\n",
       "    </tr>\n",
       "    <tr>\n",
       "      <th>WoodDeckSF</th>\n",
       "      <td>1460.0</td>\n",
       "      <td>94.244521</td>\n",
       "      <td>125.338794</td>\n",
       "      <td>0.0</td>\n",
       "      <td>0.00</td>\n",
       "      <td>0.0</td>\n",
       "      <td>168.00</td>\n",
       "      <td>857.0</td>\n",
       "      <td>0.0</td>\n",
       "    </tr>\n",
       "    <tr>\n",
       "      <th>OpenPorchSF</th>\n",
       "      <td>1460.0</td>\n",
       "      <td>46.660274</td>\n",
       "      <td>66.256028</td>\n",
       "      <td>0.0</td>\n",
       "      <td>0.00</td>\n",
       "      <td>25.0</td>\n",
       "      <td>68.00</td>\n",
       "      <td>547.0</td>\n",
       "      <td>25.0</td>\n",
       "    </tr>\n",
       "    <tr>\n",
       "      <th>EnclosedPorch</th>\n",
       "      <td>1460.0</td>\n",
       "      <td>21.954110</td>\n",
       "      <td>61.119149</td>\n",
       "      <td>0.0</td>\n",
       "      <td>0.00</td>\n",
       "      <td>0.0</td>\n",
       "      <td>0.00</td>\n",
       "      <td>552.0</td>\n",
       "      <td>0.0</td>\n",
       "    </tr>\n",
       "    <tr>\n",
       "      <th>3SsnPorch</th>\n",
       "      <td>1460.0</td>\n",
       "      <td>3.409589</td>\n",
       "      <td>29.317331</td>\n",
       "      <td>0.0</td>\n",
       "      <td>0.00</td>\n",
       "      <td>0.0</td>\n",
       "      <td>0.00</td>\n",
       "      <td>508.0</td>\n",
       "      <td>0.0</td>\n",
       "    </tr>\n",
       "    <tr>\n",
       "      <th>ScreenPorch</th>\n",
       "      <td>1460.0</td>\n",
       "      <td>15.060959</td>\n",
       "      <td>55.757415</td>\n",
       "      <td>0.0</td>\n",
       "      <td>0.00</td>\n",
       "      <td>0.0</td>\n",
       "      <td>0.00</td>\n",
       "      <td>480.0</td>\n",
       "      <td>0.0</td>\n",
       "    </tr>\n",
       "    <tr>\n",
       "      <th>PoolArea</th>\n",
       "      <td>1460.0</td>\n",
       "      <td>2.758904</td>\n",
       "      <td>40.177307</td>\n",
       "      <td>0.0</td>\n",
       "      <td>0.00</td>\n",
       "      <td>0.0</td>\n",
       "      <td>0.00</td>\n",
       "      <td>738.0</td>\n",
       "      <td>0.0</td>\n",
       "    </tr>\n",
       "    <tr>\n",
       "      <th>MiscVal</th>\n",
       "      <td>1460.0</td>\n",
       "      <td>43.489041</td>\n",
       "      <td>496.123024</td>\n",
       "      <td>0.0</td>\n",
       "      <td>0.00</td>\n",
       "      <td>0.0</td>\n",
       "      <td>0.00</td>\n",
       "      <td>15500.0</td>\n",
       "      <td>0.0</td>\n",
       "    </tr>\n",
       "    <tr>\n",
       "      <th>MoSold</th>\n",
       "      <td>1460.0</td>\n",
       "      <td>6.321918</td>\n",
       "      <td>2.703626</td>\n",
       "      <td>1.0</td>\n",
       "      <td>5.00</td>\n",
       "      <td>6.0</td>\n",
       "      <td>8.00</td>\n",
       "      <td>12.0</td>\n",
       "      <td>6.0</td>\n",
       "    </tr>\n",
       "    <tr>\n",
       "      <th>YrSold</th>\n",
       "      <td>1460.0</td>\n",
       "      <td>2007.815753</td>\n",
       "      <td>1.328095</td>\n",
       "      <td>2006.0</td>\n",
       "      <td>2007.00</td>\n",
       "      <td>2008.0</td>\n",
       "      <td>2009.00</td>\n",
       "      <td>2010.0</td>\n",
       "      <td>2008.0</td>\n",
       "    </tr>\n",
       "    <tr>\n",
       "      <th>SalePrice</th>\n",
       "      <td>1460.0</td>\n",
       "      <td>180921.195890</td>\n",
       "      <td>79442.502883</td>\n",
       "      <td>34900.0</td>\n",
       "      <td>129975.00</td>\n",
       "      <td>163000.0</td>\n",
       "      <td>214000.00</td>\n",
       "      <td>755000.0</td>\n",
       "      <td>163000.0</td>\n",
       "    </tr>\n",
       "  </tbody>\n",
       "</table>\n",
       "</div>"
      ],
      "text/plain": [
       "                count           mean           std      min        25%  \\\n",
       "Id             1460.0     730.500000    421.610009      1.0     365.75   \n",
       "MSSubClass     1460.0      56.897260     42.300571     20.0      20.00   \n",
       "LotFrontage    1201.0      70.049958     24.284752     21.0      59.00   \n",
       "LotArea        1460.0   10516.828082   9981.264932   1300.0    7553.50   \n",
       "OverallQual    1460.0       6.099315      1.382997      1.0       5.00   \n",
       "OverallCond    1460.0       5.575342      1.112799      1.0       5.00   \n",
       "YearBuilt      1460.0    1971.267808     30.202904   1872.0    1954.00   \n",
       "YearRemodAdd   1460.0    1984.865753     20.645407   1950.0    1967.00   \n",
       "MasVnrArea     1452.0     103.685262    181.066207      0.0       0.00   \n",
       "BsmtFinSF1     1460.0     443.639726    456.098091      0.0       0.00   \n",
       "BsmtFinSF2     1460.0      46.549315    161.319273      0.0       0.00   \n",
       "BsmtUnfSF      1460.0     567.240411    441.866955      0.0     223.00   \n",
       "TotalBsmtSF    1460.0    1057.429452    438.705324      0.0     795.75   \n",
       "1stFlrSF       1460.0    1162.626712    386.587738    334.0     882.00   \n",
       "2ndFlrSF       1460.0     346.992466    436.528436      0.0       0.00   \n",
       "LowQualFinSF   1460.0       5.844521     48.623081      0.0       0.00   \n",
       "GrLivArea      1460.0    1515.463699    525.480383    334.0    1129.50   \n",
       "BsmtFullBath   1460.0       0.425342      0.518911      0.0       0.00   \n",
       "BsmtHalfBath   1460.0       0.057534      0.238753      0.0       0.00   \n",
       "FullBath       1460.0       1.565068      0.550916      0.0       1.00   \n",
       "HalfBath       1460.0       0.382877      0.502885      0.0       0.00   \n",
       "BedroomAbvGr   1460.0       2.866438      0.815778      0.0       2.00   \n",
       "KitchenAbvGr   1460.0       1.046575      0.220338      0.0       1.00   \n",
       "TotRmsAbvGrd   1460.0       6.517808      1.625393      2.0       5.00   \n",
       "Fireplaces     1460.0       0.613014      0.644666      0.0       0.00   \n",
       "GarageYrBlt    1379.0    1978.506164     24.689725   1900.0    1961.00   \n",
       "GarageCars     1460.0       1.767123      0.747315      0.0       1.00   \n",
       "GarageArea     1460.0     472.980137    213.804841      0.0     334.50   \n",
       "WoodDeckSF     1460.0      94.244521    125.338794      0.0       0.00   \n",
       "OpenPorchSF    1460.0      46.660274     66.256028      0.0       0.00   \n",
       "EnclosedPorch  1460.0      21.954110     61.119149      0.0       0.00   \n",
       "3SsnPorch      1460.0       3.409589     29.317331      0.0       0.00   \n",
       "ScreenPorch    1460.0      15.060959     55.757415      0.0       0.00   \n",
       "PoolArea       1460.0       2.758904     40.177307      0.0       0.00   \n",
       "MiscVal        1460.0      43.489041    496.123024      0.0       0.00   \n",
       "MoSold         1460.0       6.321918      2.703626      1.0       5.00   \n",
       "YrSold         1460.0    2007.815753      1.328095   2006.0    2007.00   \n",
       "SalePrice      1460.0  180921.195890  79442.502883  34900.0  129975.00   \n",
       "\n",
       "                    50%        75%       max    median  \n",
       "Id                730.5    1095.25    1460.0     730.5  \n",
       "MSSubClass         50.0      70.00     190.0      50.0  \n",
       "LotFrontage        69.0      80.00     313.0      69.0  \n",
       "LotArea          9478.5   11601.50  215245.0    9478.5  \n",
       "OverallQual         6.0       7.00      10.0       6.0  \n",
       "OverallCond         5.0       6.00       9.0       5.0  \n",
       "YearBuilt        1973.0    2000.00    2010.0    1973.0  \n",
       "YearRemodAdd     1994.0    2004.00    2010.0    1994.0  \n",
       "MasVnrArea          0.0     166.00    1600.0       0.0  \n",
       "BsmtFinSF1        383.5     712.25    5644.0     383.5  \n",
       "BsmtFinSF2          0.0       0.00    1474.0       0.0  \n",
       "BsmtUnfSF         477.5     808.00    2336.0     477.5  \n",
       "TotalBsmtSF       991.5    1298.25    6110.0     991.5  \n",
       "1stFlrSF         1087.0    1391.25    4692.0    1087.0  \n",
       "2ndFlrSF            0.0     728.00    2065.0       0.0  \n",
       "LowQualFinSF        0.0       0.00     572.0       0.0  \n",
       "GrLivArea        1464.0    1776.75    5642.0    1464.0  \n",
       "BsmtFullBath        0.0       1.00       3.0       0.0  \n",
       "BsmtHalfBath        0.0       0.00       2.0       0.0  \n",
       "FullBath            2.0       2.00       3.0       2.0  \n",
       "HalfBath            0.0       1.00       2.0       0.0  \n",
       "BedroomAbvGr        3.0       3.00       8.0       3.0  \n",
       "KitchenAbvGr        1.0       1.00       3.0       1.0  \n",
       "TotRmsAbvGrd        6.0       7.00      14.0       6.0  \n",
       "Fireplaces          1.0       1.00       3.0       1.0  \n",
       "GarageYrBlt      1980.0    2002.00    2010.0    1980.0  \n",
       "GarageCars          2.0       2.00       4.0       2.0  \n",
       "GarageArea        480.0     576.00    1418.0     480.0  \n",
       "WoodDeckSF          0.0     168.00     857.0       0.0  \n",
       "OpenPorchSF        25.0      68.00     547.0      25.0  \n",
       "EnclosedPorch       0.0       0.00     552.0       0.0  \n",
       "3SsnPorch           0.0       0.00     508.0       0.0  \n",
       "ScreenPorch         0.0       0.00     480.0       0.0  \n",
       "PoolArea            0.0       0.00     738.0       0.0  \n",
       "MiscVal             0.0       0.00   15500.0       0.0  \n",
       "MoSold              6.0       8.00      12.0       6.0  \n",
       "YrSold           2008.0    2009.00    2010.0    2008.0  \n",
       "SalePrice      163000.0  214000.00  755000.0  163000.0  "
      ]
     },
     "execution_count": 3,
     "metadata": {},
     "output_type": "execute_result"
    }
   ],
   "source": [
    "# Análisis descriptivo de los datos\n",
    "# Variables numéricas\n",
    "# Obtener num de elementos, media, desv típica, max, min y cuartiles\n",
    "stats_df = housing_df.describe()\n",
    "# Obtener y añadir la mediana\n",
    "median = pd.DataFrame(housing_df.median())\n",
    "median = median.transpose()\n",
    "median.rename(index = {0:'median'},inplace = True)\n",
    "stats_df = stats_df.append(median).transpose() # Hay q igualarlo porq append() devuelve nuevo df\n",
    "stats_df"
   ]
  },
  {
   "cell_type": "markdown",
   "metadata": {
    "id": "Z2A-t9rE_ImE"
   },
   "source": [
    "<b> Variables categóricas</b>"
   ]
  },
  {
   "cell_type": "code",
   "execution_count": 4,
   "metadata": {
    "colab": {
     "base_uri": "https://localhost:8080/",
     "height": 1000
    },
    "executionInfo": {
     "elapsed": 1227,
     "status": "ok",
     "timestamp": 1611862407511,
     "user": {
      "displayName": "javier fernandez lasso",
      "photoUrl": "https://lh3.googleusercontent.com/a-/AOh14Gjka-wqbaXM4i9Mwuy-Q1w3uwgDweCVIgzyCok6HWM=s64",
      "userId": "08405858041863855651"
     },
     "user_tz": -60
    },
    "id": "thd_4zKL_ImF",
    "outputId": "e3d26928-476c-494a-f511-7cabfea4b3a5"
   },
   "outputs": [
    {
     "data": {
      "text/html": [
       "<div>\n",
       "<style scoped>\n",
       "    .dataframe tbody tr th:only-of-type {\n",
       "        vertical-align: middle;\n",
       "    }\n",
       "\n",
       "    .dataframe tbody tr th {\n",
       "        vertical-align: top;\n",
       "    }\n",
       "\n",
       "    .dataframe thead th {\n",
       "        text-align: right;\n",
       "    }\n",
       "</style>\n",
       "<table border=\"1\" class=\"dataframe\">\n",
       "  <thead>\n",
       "    <tr style=\"text-align: right;\">\n",
       "      <th></th>\n",
       "      <th>count</th>\n",
       "      <th>unique</th>\n",
       "      <th>top</th>\n",
       "      <th>freq</th>\n",
       "    </tr>\n",
       "  </thead>\n",
       "  <tbody>\n",
       "    <tr>\n",
       "      <th>MSZoning</th>\n",
       "      <td>1460</td>\n",
       "      <td>5</td>\n",
       "      <td>RL</td>\n",
       "      <td>1151</td>\n",
       "    </tr>\n",
       "    <tr>\n",
       "      <th>Street</th>\n",
       "      <td>1460</td>\n",
       "      <td>2</td>\n",
       "      <td>Pave</td>\n",
       "      <td>1454</td>\n",
       "    </tr>\n",
       "    <tr>\n",
       "      <th>Alley</th>\n",
       "      <td>91</td>\n",
       "      <td>2</td>\n",
       "      <td>Grvl</td>\n",
       "      <td>50</td>\n",
       "    </tr>\n",
       "    <tr>\n",
       "      <th>LotShape</th>\n",
       "      <td>1460</td>\n",
       "      <td>4</td>\n",
       "      <td>Reg</td>\n",
       "      <td>925</td>\n",
       "    </tr>\n",
       "    <tr>\n",
       "      <th>LandContour</th>\n",
       "      <td>1460</td>\n",
       "      <td>4</td>\n",
       "      <td>Lvl</td>\n",
       "      <td>1311</td>\n",
       "    </tr>\n",
       "    <tr>\n",
       "      <th>Utilities</th>\n",
       "      <td>1460</td>\n",
       "      <td>2</td>\n",
       "      <td>AllPub</td>\n",
       "      <td>1459</td>\n",
       "    </tr>\n",
       "    <tr>\n",
       "      <th>LotConfig</th>\n",
       "      <td>1460</td>\n",
       "      <td>5</td>\n",
       "      <td>Inside</td>\n",
       "      <td>1052</td>\n",
       "    </tr>\n",
       "    <tr>\n",
       "      <th>LandSlope</th>\n",
       "      <td>1460</td>\n",
       "      <td>3</td>\n",
       "      <td>Gtl</td>\n",
       "      <td>1382</td>\n",
       "    </tr>\n",
       "    <tr>\n",
       "      <th>Neighborhood</th>\n",
       "      <td>1460</td>\n",
       "      <td>25</td>\n",
       "      <td>NAmes</td>\n",
       "      <td>225</td>\n",
       "    </tr>\n",
       "    <tr>\n",
       "      <th>Condition1</th>\n",
       "      <td>1460</td>\n",
       "      <td>9</td>\n",
       "      <td>Norm</td>\n",
       "      <td>1260</td>\n",
       "    </tr>\n",
       "    <tr>\n",
       "      <th>Condition2</th>\n",
       "      <td>1460</td>\n",
       "      <td>8</td>\n",
       "      <td>Norm</td>\n",
       "      <td>1445</td>\n",
       "    </tr>\n",
       "    <tr>\n",
       "      <th>BldgType</th>\n",
       "      <td>1460</td>\n",
       "      <td>5</td>\n",
       "      <td>1Fam</td>\n",
       "      <td>1220</td>\n",
       "    </tr>\n",
       "    <tr>\n",
       "      <th>HouseStyle</th>\n",
       "      <td>1460</td>\n",
       "      <td>8</td>\n",
       "      <td>1Story</td>\n",
       "      <td>726</td>\n",
       "    </tr>\n",
       "    <tr>\n",
       "      <th>RoofStyle</th>\n",
       "      <td>1460</td>\n",
       "      <td>6</td>\n",
       "      <td>Gable</td>\n",
       "      <td>1141</td>\n",
       "    </tr>\n",
       "    <tr>\n",
       "      <th>RoofMatl</th>\n",
       "      <td>1460</td>\n",
       "      <td>8</td>\n",
       "      <td>CompShg</td>\n",
       "      <td>1434</td>\n",
       "    </tr>\n",
       "    <tr>\n",
       "      <th>Exterior1st</th>\n",
       "      <td>1460</td>\n",
       "      <td>15</td>\n",
       "      <td>VinylSd</td>\n",
       "      <td>515</td>\n",
       "    </tr>\n",
       "    <tr>\n",
       "      <th>Exterior2nd</th>\n",
       "      <td>1460</td>\n",
       "      <td>16</td>\n",
       "      <td>VinylSd</td>\n",
       "      <td>504</td>\n",
       "    </tr>\n",
       "    <tr>\n",
       "      <th>MasVnrType</th>\n",
       "      <td>1452</td>\n",
       "      <td>4</td>\n",
       "      <td>None</td>\n",
       "      <td>864</td>\n",
       "    </tr>\n",
       "    <tr>\n",
       "      <th>ExterQual</th>\n",
       "      <td>1460</td>\n",
       "      <td>4</td>\n",
       "      <td>TA</td>\n",
       "      <td>906</td>\n",
       "    </tr>\n",
       "    <tr>\n",
       "      <th>ExterCond</th>\n",
       "      <td>1460</td>\n",
       "      <td>5</td>\n",
       "      <td>TA</td>\n",
       "      <td>1282</td>\n",
       "    </tr>\n",
       "    <tr>\n",
       "      <th>Foundation</th>\n",
       "      <td>1460</td>\n",
       "      <td>6</td>\n",
       "      <td>PConc</td>\n",
       "      <td>647</td>\n",
       "    </tr>\n",
       "    <tr>\n",
       "      <th>BsmtQual</th>\n",
       "      <td>1423</td>\n",
       "      <td>4</td>\n",
       "      <td>TA</td>\n",
       "      <td>649</td>\n",
       "    </tr>\n",
       "    <tr>\n",
       "      <th>BsmtCond</th>\n",
       "      <td>1423</td>\n",
       "      <td>4</td>\n",
       "      <td>TA</td>\n",
       "      <td>1311</td>\n",
       "    </tr>\n",
       "    <tr>\n",
       "      <th>BsmtExposure</th>\n",
       "      <td>1422</td>\n",
       "      <td>4</td>\n",
       "      <td>No</td>\n",
       "      <td>953</td>\n",
       "    </tr>\n",
       "    <tr>\n",
       "      <th>BsmtFinType1</th>\n",
       "      <td>1423</td>\n",
       "      <td>6</td>\n",
       "      <td>Unf</td>\n",
       "      <td>430</td>\n",
       "    </tr>\n",
       "    <tr>\n",
       "      <th>BsmtFinType2</th>\n",
       "      <td>1422</td>\n",
       "      <td>6</td>\n",
       "      <td>Unf</td>\n",
       "      <td>1256</td>\n",
       "    </tr>\n",
       "    <tr>\n",
       "      <th>Heating</th>\n",
       "      <td>1460</td>\n",
       "      <td>6</td>\n",
       "      <td>GasA</td>\n",
       "      <td>1428</td>\n",
       "    </tr>\n",
       "    <tr>\n",
       "      <th>HeatingQC</th>\n",
       "      <td>1460</td>\n",
       "      <td>5</td>\n",
       "      <td>Ex</td>\n",
       "      <td>741</td>\n",
       "    </tr>\n",
       "    <tr>\n",
       "      <th>CentralAir</th>\n",
       "      <td>1460</td>\n",
       "      <td>2</td>\n",
       "      <td>Y</td>\n",
       "      <td>1365</td>\n",
       "    </tr>\n",
       "    <tr>\n",
       "      <th>Electrical</th>\n",
       "      <td>1459</td>\n",
       "      <td>5</td>\n",
       "      <td>SBrkr</td>\n",
       "      <td>1334</td>\n",
       "    </tr>\n",
       "    <tr>\n",
       "      <th>KitchenQual</th>\n",
       "      <td>1460</td>\n",
       "      <td>4</td>\n",
       "      <td>TA</td>\n",
       "      <td>735</td>\n",
       "    </tr>\n",
       "    <tr>\n",
       "      <th>Functional</th>\n",
       "      <td>1460</td>\n",
       "      <td>7</td>\n",
       "      <td>Typ</td>\n",
       "      <td>1360</td>\n",
       "    </tr>\n",
       "    <tr>\n",
       "      <th>FireplaceQu</th>\n",
       "      <td>770</td>\n",
       "      <td>5</td>\n",
       "      <td>Gd</td>\n",
       "      <td>380</td>\n",
       "    </tr>\n",
       "    <tr>\n",
       "      <th>GarageType</th>\n",
       "      <td>1379</td>\n",
       "      <td>6</td>\n",
       "      <td>Attchd</td>\n",
       "      <td>870</td>\n",
       "    </tr>\n",
       "    <tr>\n",
       "      <th>GarageFinish</th>\n",
       "      <td>1379</td>\n",
       "      <td>3</td>\n",
       "      <td>Unf</td>\n",
       "      <td>605</td>\n",
       "    </tr>\n",
       "    <tr>\n",
       "      <th>GarageQual</th>\n",
       "      <td>1379</td>\n",
       "      <td>5</td>\n",
       "      <td>TA</td>\n",
       "      <td>1311</td>\n",
       "    </tr>\n",
       "    <tr>\n",
       "      <th>GarageCond</th>\n",
       "      <td>1379</td>\n",
       "      <td>5</td>\n",
       "      <td>TA</td>\n",
       "      <td>1326</td>\n",
       "    </tr>\n",
       "    <tr>\n",
       "      <th>PavedDrive</th>\n",
       "      <td>1460</td>\n",
       "      <td>3</td>\n",
       "      <td>Y</td>\n",
       "      <td>1340</td>\n",
       "    </tr>\n",
       "    <tr>\n",
       "      <th>PoolQC</th>\n",
       "      <td>7</td>\n",
       "      <td>3</td>\n",
       "      <td>Gd</td>\n",
       "      <td>3</td>\n",
       "    </tr>\n",
       "    <tr>\n",
       "      <th>Fence</th>\n",
       "      <td>281</td>\n",
       "      <td>4</td>\n",
       "      <td>MnPrv</td>\n",
       "      <td>157</td>\n",
       "    </tr>\n",
       "    <tr>\n",
       "      <th>MiscFeature</th>\n",
       "      <td>54</td>\n",
       "      <td>4</td>\n",
       "      <td>Shed</td>\n",
       "      <td>49</td>\n",
       "    </tr>\n",
       "    <tr>\n",
       "      <th>SaleType</th>\n",
       "      <td>1460</td>\n",
       "      <td>9</td>\n",
       "      <td>WD</td>\n",
       "      <td>1267</td>\n",
       "    </tr>\n",
       "    <tr>\n",
       "      <th>SaleCondition</th>\n",
       "      <td>1460</td>\n",
       "      <td>6</td>\n",
       "      <td>Normal</td>\n",
       "      <td>1198</td>\n",
       "    </tr>\n",
       "  </tbody>\n",
       "</table>\n",
       "</div>"
      ],
      "text/plain": [
       "              count unique      top  freq\n",
       "MSZoning       1460      5       RL  1151\n",
       "Street         1460      2     Pave  1454\n",
       "Alley            91      2     Grvl    50\n",
       "LotShape       1460      4      Reg   925\n",
       "LandContour    1460      4      Lvl  1311\n",
       "Utilities      1460      2   AllPub  1459\n",
       "LotConfig      1460      5   Inside  1052\n",
       "LandSlope      1460      3      Gtl  1382\n",
       "Neighborhood   1460     25    NAmes   225\n",
       "Condition1     1460      9     Norm  1260\n",
       "Condition2     1460      8     Norm  1445\n",
       "BldgType       1460      5     1Fam  1220\n",
       "HouseStyle     1460      8   1Story   726\n",
       "RoofStyle      1460      6    Gable  1141\n",
       "RoofMatl       1460      8  CompShg  1434\n",
       "Exterior1st    1460     15  VinylSd   515\n",
       "Exterior2nd    1460     16  VinylSd   504\n",
       "MasVnrType     1452      4     None   864\n",
       "ExterQual      1460      4       TA   906\n",
       "ExterCond      1460      5       TA  1282\n",
       "Foundation     1460      6    PConc   647\n",
       "BsmtQual       1423      4       TA   649\n",
       "BsmtCond       1423      4       TA  1311\n",
       "BsmtExposure   1422      4       No   953\n",
       "BsmtFinType1   1423      6      Unf   430\n",
       "BsmtFinType2   1422      6      Unf  1256\n",
       "Heating        1460      6     GasA  1428\n",
       "HeatingQC      1460      5       Ex   741\n",
       "CentralAir     1460      2        Y  1365\n",
       "Electrical     1459      5    SBrkr  1334\n",
       "KitchenQual    1460      4       TA   735\n",
       "Functional     1460      7      Typ  1360\n",
       "FireplaceQu     770      5       Gd   380\n",
       "GarageType     1379      6   Attchd   870\n",
       "GarageFinish   1379      3      Unf   605\n",
       "GarageQual     1379      5       TA  1311\n",
       "GarageCond     1379      5       TA  1326\n",
       "PavedDrive     1460      3        Y  1340\n",
       "PoolQC            7      3       Gd     3\n",
       "Fence           281      4    MnPrv   157\n",
       "MiscFeature      54      4     Shed    49\n",
       "SaleType       1460      9       WD  1267\n",
       "SaleCondition  1460      6   Normal  1198"
      ]
     },
     "execution_count": 4,
     "metadata": {},
     "output_type": "execute_result"
    }
   ],
   "source": [
    "#De las variables categóricas, listar las diferentes categorías \n",
    "#y hallar la frecuencia de cada una de ellas. \n",
    "housing_df.describe(include='object').T"
   ]
  },
  {
   "cell_type": "markdown",
   "metadata": {
    "id": "fQR-c5Gm_ImF"
   },
   "source": [
    "A continuación se va a mostrar la frecuencia para cada valor dentro de los atributos categóricos:"
   ]
  },
  {
   "cell_type": "code",
   "execution_count": 5,
   "metadata": {
    "colab": {
     "base_uri": "https://localhost:8080/"
    },
    "executionInfo": {
     "elapsed": 637,
     "status": "ok",
     "timestamp": 1611862410166,
     "user": {
      "displayName": "javier fernandez lasso",
      "photoUrl": "https://lh3.googleusercontent.com/a-/AOh14Gjka-wqbaXM4i9Mwuy-Q1w3uwgDweCVIgzyCok6HWM=s64",
      "userId": "08405858041863855651"
     },
     "user_tz": -60
    },
    "id": "8cqgouOg_ImG",
    "outputId": "3e4d9fc0-9521-4759-c2db-316183187022"
   },
   "outputs": [
    {
     "name": "stdout",
     "output_type": "stream",
     "text": [
      "RL         1151\n",
      "RM          218\n",
      "FV           65\n",
      "RH           16\n",
      "C (all)      10\n",
      "Name: MSZoning, dtype: int64\n",
      "--------------------\n",
      "Pave    1454\n",
      "Grvl       6\n",
      "Name: Street, dtype: int64\n",
      "--------------------\n",
      "Grvl    50\n",
      "Pave    41\n",
      "Name: Alley, dtype: int64\n",
      "--------------------\n",
      "Reg    925\n",
      "IR1    484\n",
      "IR2     41\n",
      "IR3     10\n",
      "Name: LotShape, dtype: int64\n",
      "--------------------\n",
      "Lvl    1311\n",
      "Bnk      63\n",
      "HLS      50\n",
      "Low      36\n",
      "Name: LandContour, dtype: int64\n",
      "--------------------\n",
      "AllPub    1459\n",
      "NoSeWa       1\n",
      "Name: Utilities, dtype: int64\n",
      "--------------------\n",
      "Inside     1052\n",
      "Corner      263\n",
      "CulDSac      94\n",
      "FR2          47\n",
      "FR3           4\n",
      "Name: LotConfig, dtype: int64\n",
      "--------------------\n",
      "Gtl    1382\n",
      "Mod      65\n",
      "Sev      13\n",
      "Name: LandSlope, dtype: int64\n",
      "--------------------\n",
      "NAmes      225\n",
      "CollgCr    150\n",
      "OldTown    113\n",
      "Edwards    100\n",
      "Somerst     86\n",
      "Gilbert     79\n",
      "NridgHt     77\n",
      "Sawyer      74\n",
      "NWAmes      73\n",
      "SawyerW     59\n",
      "BrkSide     58\n",
      "Crawfor     51\n",
      "Mitchel     49\n",
      "NoRidge     41\n",
      "Timber      38\n",
      "IDOTRR      37\n",
      "ClearCr     28\n",
      "StoneBr     25\n",
      "SWISU       25\n",
      "MeadowV     17\n",
      "Blmngtn     17\n",
      "BrDale      16\n",
      "Veenker     11\n",
      "NPkVill      9\n",
      "Blueste      2\n",
      "Name: Neighborhood, dtype: int64\n",
      "--------------------\n",
      "Norm      1260\n",
      "Feedr       81\n",
      "Artery      48\n",
      "RRAn        26\n",
      "PosN        19\n",
      "RRAe        11\n",
      "PosA         8\n",
      "RRNn         5\n",
      "RRNe         2\n",
      "Name: Condition1, dtype: int64\n",
      "--------------------\n",
      "Norm      1445\n",
      "Feedr        6\n",
      "PosN         2\n",
      "RRNn         2\n",
      "Artery       2\n",
      "RRAe         1\n",
      "RRAn         1\n",
      "PosA         1\n",
      "Name: Condition2, dtype: int64\n",
      "--------------------\n",
      "1Fam      1220\n",
      "TwnhsE     114\n",
      "Duplex      52\n",
      "Twnhs       43\n",
      "2fmCon      31\n",
      "Name: BldgType, dtype: int64\n",
      "--------------------\n",
      "1Story    726\n",
      "2Story    445\n",
      "1.5Fin    154\n",
      "SLvl       65\n",
      "SFoyer     37\n",
      "1.5Unf     14\n",
      "2.5Unf     11\n",
      "2.5Fin      8\n",
      "Name: HouseStyle, dtype: int64\n",
      "--------------------\n",
      "Gable      1141\n",
      "Hip         286\n",
      "Flat         13\n",
      "Gambrel      11\n",
      "Mansard       7\n",
      "Shed          2\n",
      "Name: RoofStyle, dtype: int64\n",
      "--------------------\n",
      "CompShg    1434\n",
      "Tar&Grv      11\n",
      "WdShngl       6\n",
      "WdShake       5\n",
      "Membran       1\n",
      "Roll          1\n",
      "ClyTile       1\n",
      "Metal         1\n",
      "Name: RoofMatl, dtype: int64\n",
      "--------------------\n",
      "VinylSd    515\n",
      "HdBoard    222\n",
      "MetalSd    220\n",
      "Wd Sdng    206\n",
      "Plywood    108\n",
      "CemntBd     61\n",
      "BrkFace     50\n",
      "WdShing     26\n",
      "Stucco      25\n",
      "AsbShng     20\n",
      "Stone        2\n",
      "BrkComm      2\n",
      "ImStucc      1\n",
      "CBlock       1\n",
      "AsphShn      1\n",
      "Name: Exterior1st, dtype: int64\n",
      "--------------------\n",
      "VinylSd    504\n",
      "MetalSd    214\n",
      "HdBoard    207\n",
      "Wd Sdng    197\n",
      "Plywood    142\n",
      "CmentBd     60\n",
      "Wd Shng     38\n",
      "Stucco      26\n",
      "BrkFace     25\n",
      "AsbShng     20\n",
      "ImStucc     10\n",
      "Brk Cmn      7\n",
      "Stone        5\n",
      "AsphShn      3\n",
      "Other        1\n",
      "CBlock       1\n",
      "Name: Exterior2nd, dtype: int64\n",
      "--------------------\n",
      "None       864\n",
      "BrkFace    445\n",
      "Stone      128\n",
      "BrkCmn      15\n",
      "Name: MasVnrType, dtype: int64\n",
      "--------------------\n",
      "TA    906\n",
      "Gd    488\n",
      "Ex     52\n",
      "Fa     14\n",
      "Name: ExterQual, dtype: int64\n",
      "--------------------\n",
      "TA    1282\n",
      "Gd     146\n",
      "Fa      28\n",
      "Ex       3\n",
      "Po       1\n",
      "Name: ExterCond, dtype: int64\n",
      "--------------------\n",
      "PConc     647\n",
      "CBlock    634\n",
      "BrkTil    146\n",
      "Slab       24\n",
      "Stone       6\n",
      "Wood        3\n",
      "Name: Foundation, dtype: int64\n",
      "--------------------\n",
      "TA    649\n",
      "Gd    618\n",
      "Ex    121\n",
      "Fa     35\n",
      "Name: BsmtQual, dtype: int64\n",
      "--------------------\n",
      "TA    1311\n",
      "Gd      65\n",
      "Fa      45\n",
      "Po       2\n",
      "Name: BsmtCond, dtype: int64\n",
      "--------------------\n",
      "No    953\n",
      "Av    221\n",
      "Gd    134\n",
      "Mn    114\n",
      "Name: BsmtExposure, dtype: int64\n",
      "--------------------\n",
      "Unf    430\n",
      "GLQ    418\n",
      "ALQ    220\n",
      "BLQ    148\n",
      "Rec    133\n",
      "LwQ     74\n",
      "Name: BsmtFinType1, dtype: int64\n",
      "--------------------\n",
      "Unf    1256\n",
      "Rec      54\n",
      "LwQ      46\n",
      "BLQ      33\n",
      "ALQ      19\n",
      "GLQ      14\n",
      "Name: BsmtFinType2, dtype: int64\n",
      "--------------------\n",
      "GasA     1428\n",
      "GasW       18\n",
      "Grav        7\n",
      "Wall        4\n",
      "OthW        2\n",
      "Floor       1\n",
      "Name: Heating, dtype: int64\n",
      "--------------------\n",
      "Ex    741\n",
      "TA    428\n",
      "Gd    241\n",
      "Fa     49\n",
      "Po      1\n",
      "Name: HeatingQC, dtype: int64\n",
      "--------------------\n",
      "Y    1365\n",
      "N      95\n",
      "Name: CentralAir, dtype: int64\n",
      "--------------------\n",
      "SBrkr    1334\n",
      "FuseA      94\n",
      "FuseF      27\n",
      "FuseP       3\n",
      "Mix         1\n",
      "Name: Electrical, dtype: int64\n",
      "--------------------\n",
      "TA    735\n",
      "Gd    586\n",
      "Ex    100\n",
      "Fa     39\n",
      "Name: KitchenQual, dtype: int64\n",
      "--------------------\n",
      "Typ     1360\n",
      "Min2      34\n",
      "Min1      31\n",
      "Mod       15\n",
      "Maj1      14\n",
      "Maj2       5\n",
      "Sev        1\n",
      "Name: Functional, dtype: int64\n",
      "--------------------\n",
      "Gd    380\n",
      "TA    313\n",
      "Fa     33\n",
      "Ex     24\n",
      "Po     20\n",
      "Name: FireplaceQu, dtype: int64\n",
      "--------------------\n",
      "Attchd     870\n",
      "Detchd     387\n",
      "BuiltIn     88\n",
      "Basment     19\n",
      "CarPort      9\n",
      "2Types       6\n",
      "Name: GarageType, dtype: int64\n",
      "--------------------\n",
      "Unf    605\n",
      "RFn    422\n",
      "Fin    352\n",
      "Name: GarageFinish, dtype: int64\n",
      "--------------------\n",
      "TA    1311\n",
      "Fa      48\n",
      "Gd      14\n",
      "Ex       3\n",
      "Po       3\n",
      "Name: GarageQual, dtype: int64\n",
      "--------------------\n",
      "TA    1326\n",
      "Fa      35\n",
      "Gd       9\n",
      "Po       7\n",
      "Ex       2\n",
      "Name: GarageCond, dtype: int64\n",
      "--------------------\n",
      "Y    1340\n",
      "N      90\n",
      "P      30\n",
      "Name: PavedDrive, dtype: int64\n",
      "--------------------\n",
      "Gd    3\n",
      "Ex    2\n",
      "Fa    2\n",
      "Name: PoolQC, dtype: int64\n",
      "--------------------\n",
      "MnPrv    157\n",
      "GdPrv     59\n",
      "GdWo      54\n",
      "MnWw      11\n",
      "Name: Fence, dtype: int64\n",
      "--------------------\n",
      "Shed    49\n",
      "Gar2     2\n",
      "Othr     2\n",
      "TenC     1\n",
      "Name: MiscFeature, dtype: int64\n",
      "--------------------\n",
      "WD       1267\n",
      "New       122\n",
      "COD        43\n",
      "ConLD       9\n",
      "ConLI       5\n",
      "ConLw       5\n",
      "CWD         4\n",
      "Oth         3\n",
      "Con         2\n",
      "Name: SaleType, dtype: int64\n",
      "--------------------\n",
      "Normal     1198\n",
      "Partial     125\n",
      "Abnorml     101\n",
      "Family       20\n",
      "Alloca       12\n",
      "AdjLand       4\n",
      "Name: SaleCondition, dtype: int64\n",
      "--------------------\n"
     ]
    }
   ],
   "source": [
    "for column in housing_df.select_dtypes(include='object').columns:\n",
    "    print(housing_df[column].value_counts())\n",
    "    print('-'*20)"
   ]
  },
  {
   "cell_type": "markdown",
   "metadata": {
    "id": "DLi_GfEu_ImH"
   },
   "source": [
    "<b> Matriz de correlaciones con las columnas numéricas </b>"
   ]
  },
  {
   "cell_type": "code",
   "execution_count": 6,
   "metadata": {
    "colab": {
     "base_uri": "https://localhost:8080/",
     "height": 1000
    },
    "executionInfo": {
     "elapsed": 1164,
     "status": "ok",
     "timestamp": 1611862413121,
     "user": {
      "displayName": "javier fernandez lasso",
      "photoUrl": "https://lh3.googleusercontent.com/a-/AOh14Gjka-wqbaXM4i9Mwuy-Q1w3uwgDweCVIgzyCok6HWM=s64",
      "userId": "08405858041863855651"
     },
     "user_tz": -60
    },
    "id": "-BPYMg4A_ImH",
    "outputId": "74de0c51-ee5a-45c1-bff2-24c08b0eb9c0"
   },
   "outputs": [
    {
     "data": {
      "text/html": [
       "<div>\n",
       "<style scoped>\n",
       "    .dataframe tbody tr th:only-of-type {\n",
       "        vertical-align: middle;\n",
       "    }\n",
       "\n",
       "    .dataframe tbody tr th {\n",
       "        vertical-align: top;\n",
       "    }\n",
       "\n",
       "    .dataframe thead th {\n",
       "        text-align: right;\n",
       "    }\n",
       "</style>\n",
       "<table border=\"1\" class=\"dataframe\">\n",
       "  <thead>\n",
       "    <tr style=\"text-align: right;\">\n",
       "      <th></th>\n",
       "      <th>Id</th>\n",
       "      <th>MSSubClass</th>\n",
       "      <th>LotFrontage</th>\n",
       "      <th>LotArea</th>\n",
       "      <th>OverallQual</th>\n",
       "      <th>OverallCond</th>\n",
       "      <th>YearBuilt</th>\n",
       "      <th>YearRemodAdd</th>\n",
       "      <th>MasVnrArea</th>\n",
       "      <th>BsmtFinSF1</th>\n",
       "      <th>...</th>\n",
       "      <th>WoodDeckSF</th>\n",
       "      <th>OpenPorchSF</th>\n",
       "      <th>EnclosedPorch</th>\n",
       "      <th>3SsnPorch</th>\n",
       "      <th>ScreenPorch</th>\n",
       "      <th>PoolArea</th>\n",
       "      <th>MiscVal</th>\n",
       "      <th>MoSold</th>\n",
       "      <th>YrSold</th>\n",
       "      <th>SalePrice</th>\n",
       "    </tr>\n",
       "  </thead>\n",
       "  <tbody>\n",
       "    <tr>\n",
       "      <th>Id</th>\n",
       "      <td>1.000000</td>\n",
       "      <td>0.011156</td>\n",
       "      <td>-0.010601</td>\n",
       "      <td>-0.033226</td>\n",
       "      <td>-0.028365</td>\n",
       "      <td>0.012609</td>\n",
       "      <td>-0.012713</td>\n",
       "      <td>-0.021998</td>\n",
       "      <td>-0.050298</td>\n",
       "      <td>-0.005024</td>\n",
       "      <td>...</td>\n",
       "      <td>-0.029643</td>\n",
       "      <td>-0.000477</td>\n",
       "      <td>0.002889</td>\n",
       "      <td>-0.046635</td>\n",
       "      <td>0.001330</td>\n",
       "      <td>0.057044</td>\n",
       "      <td>-0.006242</td>\n",
       "      <td>0.021172</td>\n",
       "      <td>0.000712</td>\n",
       "      <td>-0.021917</td>\n",
       "    </tr>\n",
       "    <tr>\n",
       "      <th>MSSubClass</th>\n",
       "      <td>0.011156</td>\n",
       "      <td>1.000000</td>\n",
       "      <td>-0.386347</td>\n",
       "      <td>-0.139781</td>\n",
       "      <td>0.032628</td>\n",
       "      <td>-0.059316</td>\n",
       "      <td>0.027850</td>\n",
       "      <td>0.040581</td>\n",
       "      <td>0.022936</td>\n",
       "      <td>-0.069836</td>\n",
       "      <td>...</td>\n",
       "      <td>-0.012579</td>\n",
       "      <td>-0.006100</td>\n",
       "      <td>-0.012037</td>\n",
       "      <td>-0.043825</td>\n",
       "      <td>-0.026030</td>\n",
       "      <td>0.008283</td>\n",
       "      <td>-0.007683</td>\n",
       "      <td>-0.013585</td>\n",
       "      <td>-0.021407</td>\n",
       "      <td>-0.084284</td>\n",
       "    </tr>\n",
       "    <tr>\n",
       "      <th>LotFrontage</th>\n",
       "      <td>-0.010601</td>\n",
       "      <td>-0.386347</td>\n",
       "      <td>1.000000</td>\n",
       "      <td>0.426095</td>\n",
       "      <td>0.251646</td>\n",
       "      <td>-0.059213</td>\n",
       "      <td>0.123349</td>\n",
       "      <td>0.088866</td>\n",
       "      <td>0.193458</td>\n",
       "      <td>0.233633</td>\n",
       "      <td>...</td>\n",
       "      <td>0.088521</td>\n",
       "      <td>0.151972</td>\n",
       "      <td>0.010700</td>\n",
       "      <td>0.070029</td>\n",
       "      <td>0.041383</td>\n",
       "      <td>0.206167</td>\n",
       "      <td>0.003368</td>\n",
       "      <td>0.011200</td>\n",
       "      <td>0.007450</td>\n",
       "      <td>0.351799</td>\n",
       "    </tr>\n",
       "    <tr>\n",
       "      <th>LotArea</th>\n",
       "      <td>-0.033226</td>\n",
       "      <td>-0.139781</td>\n",
       "      <td>0.426095</td>\n",
       "      <td>1.000000</td>\n",
       "      <td>0.105806</td>\n",
       "      <td>-0.005636</td>\n",
       "      <td>0.014228</td>\n",
       "      <td>0.013788</td>\n",
       "      <td>0.104160</td>\n",
       "      <td>0.214103</td>\n",
       "      <td>...</td>\n",
       "      <td>0.171698</td>\n",
       "      <td>0.084774</td>\n",
       "      <td>-0.018340</td>\n",
       "      <td>0.020423</td>\n",
       "      <td>0.043160</td>\n",
       "      <td>0.077672</td>\n",
       "      <td>0.038068</td>\n",
       "      <td>0.001205</td>\n",
       "      <td>-0.014261</td>\n",
       "      <td>0.263843</td>\n",
       "    </tr>\n",
       "    <tr>\n",
       "      <th>OverallQual</th>\n",
       "      <td>-0.028365</td>\n",
       "      <td>0.032628</td>\n",
       "      <td>0.251646</td>\n",
       "      <td>0.105806</td>\n",
       "      <td>1.000000</td>\n",
       "      <td>-0.091932</td>\n",
       "      <td>0.572323</td>\n",
       "      <td>0.550684</td>\n",
       "      <td>0.411876</td>\n",
       "      <td>0.239666</td>\n",
       "      <td>...</td>\n",
       "      <td>0.238923</td>\n",
       "      <td>0.308819</td>\n",
       "      <td>-0.113937</td>\n",
       "      <td>0.030371</td>\n",
       "      <td>0.064886</td>\n",
       "      <td>0.065166</td>\n",
       "      <td>-0.031406</td>\n",
       "      <td>0.070815</td>\n",
       "      <td>-0.027347</td>\n",
       "      <td>0.790982</td>\n",
       "    </tr>\n",
       "    <tr>\n",
       "      <th>OverallCond</th>\n",
       "      <td>0.012609</td>\n",
       "      <td>-0.059316</td>\n",
       "      <td>-0.059213</td>\n",
       "      <td>-0.005636</td>\n",
       "      <td>-0.091932</td>\n",
       "      <td>1.000000</td>\n",
       "      <td>-0.375983</td>\n",
       "      <td>0.073741</td>\n",
       "      <td>-0.128101</td>\n",
       "      <td>-0.046231</td>\n",
       "      <td>...</td>\n",
       "      <td>-0.003334</td>\n",
       "      <td>-0.032589</td>\n",
       "      <td>0.070356</td>\n",
       "      <td>0.025504</td>\n",
       "      <td>0.054811</td>\n",
       "      <td>-0.001985</td>\n",
       "      <td>0.068777</td>\n",
       "      <td>-0.003511</td>\n",
       "      <td>0.043950</td>\n",
       "      <td>-0.077856</td>\n",
       "    </tr>\n",
       "    <tr>\n",
       "      <th>YearBuilt</th>\n",
       "      <td>-0.012713</td>\n",
       "      <td>0.027850</td>\n",
       "      <td>0.123349</td>\n",
       "      <td>0.014228</td>\n",
       "      <td>0.572323</td>\n",
       "      <td>-0.375983</td>\n",
       "      <td>1.000000</td>\n",
       "      <td>0.592855</td>\n",
       "      <td>0.315707</td>\n",
       "      <td>0.249503</td>\n",
       "      <td>...</td>\n",
       "      <td>0.224880</td>\n",
       "      <td>0.188686</td>\n",
       "      <td>-0.387268</td>\n",
       "      <td>0.031355</td>\n",
       "      <td>-0.050364</td>\n",
       "      <td>0.004950</td>\n",
       "      <td>-0.034383</td>\n",
       "      <td>0.012398</td>\n",
       "      <td>-0.013618</td>\n",
       "      <td>0.522897</td>\n",
       "    </tr>\n",
       "    <tr>\n",
       "      <th>YearRemodAdd</th>\n",
       "      <td>-0.021998</td>\n",
       "      <td>0.040581</td>\n",
       "      <td>0.088866</td>\n",
       "      <td>0.013788</td>\n",
       "      <td>0.550684</td>\n",
       "      <td>0.073741</td>\n",
       "      <td>0.592855</td>\n",
       "      <td>1.000000</td>\n",
       "      <td>0.179618</td>\n",
       "      <td>0.128451</td>\n",
       "      <td>...</td>\n",
       "      <td>0.205726</td>\n",
       "      <td>0.226298</td>\n",
       "      <td>-0.193919</td>\n",
       "      <td>0.045286</td>\n",
       "      <td>-0.038740</td>\n",
       "      <td>0.005829</td>\n",
       "      <td>-0.010286</td>\n",
       "      <td>0.021490</td>\n",
       "      <td>0.035743</td>\n",
       "      <td>0.507101</td>\n",
       "    </tr>\n",
       "    <tr>\n",
       "      <th>MasVnrArea</th>\n",
       "      <td>-0.050298</td>\n",
       "      <td>0.022936</td>\n",
       "      <td>0.193458</td>\n",
       "      <td>0.104160</td>\n",
       "      <td>0.411876</td>\n",
       "      <td>-0.128101</td>\n",
       "      <td>0.315707</td>\n",
       "      <td>0.179618</td>\n",
       "      <td>1.000000</td>\n",
       "      <td>0.264736</td>\n",
       "      <td>...</td>\n",
       "      <td>0.159718</td>\n",
       "      <td>0.125703</td>\n",
       "      <td>-0.110204</td>\n",
       "      <td>0.018796</td>\n",
       "      <td>0.061466</td>\n",
       "      <td>0.011723</td>\n",
       "      <td>-0.029815</td>\n",
       "      <td>-0.005965</td>\n",
       "      <td>-0.008201</td>\n",
       "      <td>0.477493</td>\n",
       "    </tr>\n",
       "    <tr>\n",
       "      <th>BsmtFinSF1</th>\n",
       "      <td>-0.005024</td>\n",
       "      <td>-0.069836</td>\n",
       "      <td>0.233633</td>\n",
       "      <td>0.214103</td>\n",
       "      <td>0.239666</td>\n",
       "      <td>-0.046231</td>\n",
       "      <td>0.249503</td>\n",
       "      <td>0.128451</td>\n",
       "      <td>0.264736</td>\n",
       "      <td>1.000000</td>\n",
       "      <td>...</td>\n",
       "      <td>0.204306</td>\n",
       "      <td>0.111761</td>\n",
       "      <td>-0.102303</td>\n",
       "      <td>0.026451</td>\n",
       "      <td>0.062021</td>\n",
       "      <td>0.140491</td>\n",
       "      <td>0.003571</td>\n",
       "      <td>-0.015727</td>\n",
       "      <td>0.014359</td>\n",
       "      <td>0.386420</td>\n",
       "    </tr>\n",
       "    <tr>\n",
       "      <th>BsmtFinSF2</th>\n",
       "      <td>-0.005968</td>\n",
       "      <td>-0.065649</td>\n",
       "      <td>0.049900</td>\n",
       "      <td>0.111170</td>\n",
       "      <td>-0.059119</td>\n",
       "      <td>0.040229</td>\n",
       "      <td>-0.049107</td>\n",
       "      <td>-0.067759</td>\n",
       "      <td>-0.072319</td>\n",
       "      <td>-0.050117</td>\n",
       "      <td>...</td>\n",
       "      <td>0.067898</td>\n",
       "      <td>0.003093</td>\n",
       "      <td>0.036543</td>\n",
       "      <td>-0.029993</td>\n",
       "      <td>0.088871</td>\n",
       "      <td>0.041709</td>\n",
       "      <td>0.004940</td>\n",
       "      <td>-0.015211</td>\n",
       "      <td>0.031706</td>\n",
       "      <td>-0.011378</td>\n",
       "    </tr>\n",
       "    <tr>\n",
       "      <th>BsmtUnfSF</th>\n",
       "      <td>-0.007940</td>\n",
       "      <td>-0.140759</td>\n",
       "      <td>0.132644</td>\n",
       "      <td>-0.002618</td>\n",
       "      <td>0.308159</td>\n",
       "      <td>-0.136841</td>\n",
       "      <td>0.149040</td>\n",
       "      <td>0.181133</td>\n",
       "      <td>0.114442</td>\n",
       "      <td>-0.495251</td>\n",
       "      <td>...</td>\n",
       "      <td>-0.005316</td>\n",
       "      <td>0.129005</td>\n",
       "      <td>-0.002538</td>\n",
       "      <td>0.020764</td>\n",
       "      <td>-0.012579</td>\n",
       "      <td>-0.035092</td>\n",
       "      <td>-0.023837</td>\n",
       "      <td>0.034888</td>\n",
       "      <td>-0.041258</td>\n",
       "      <td>0.214479</td>\n",
       "    </tr>\n",
       "    <tr>\n",
       "      <th>TotalBsmtSF</th>\n",
       "      <td>-0.015415</td>\n",
       "      <td>-0.238518</td>\n",
       "      <td>0.392075</td>\n",
       "      <td>0.260833</td>\n",
       "      <td>0.537808</td>\n",
       "      <td>-0.171098</td>\n",
       "      <td>0.391452</td>\n",
       "      <td>0.291066</td>\n",
       "      <td>0.363936</td>\n",
       "      <td>0.522396</td>\n",
       "      <td>...</td>\n",
       "      <td>0.232019</td>\n",
       "      <td>0.247264</td>\n",
       "      <td>-0.095478</td>\n",
       "      <td>0.037384</td>\n",
       "      <td>0.084489</td>\n",
       "      <td>0.126053</td>\n",
       "      <td>-0.018479</td>\n",
       "      <td>0.013196</td>\n",
       "      <td>-0.014969</td>\n",
       "      <td>0.613581</td>\n",
       "    </tr>\n",
       "    <tr>\n",
       "      <th>1stFlrSF</th>\n",
       "      <td>0.010496</td>\n",
       "      <td>-0.251758</td>\n",
       "      <td>0.457181</td>\n",
       "      <td>0.299475</td>\n",
       "      <td>0.476224</td>\n",
       "      <td>-0.144203</td>\n",
       "      <td>0.281986</td>\n",
       "      <td>0.240379</td>\n",
       "      <td>0.344501</td>\n",
       "      <td>0.445863</td>\n",
       "      <td>...</td>\n",
       "      <td>0.235459</td>\n",
       "      <td>0.211671</td>\n",
       "      <td>-0.065292</td>\n",
       "      <td>0.056104</td>\n",
       "      <td>0.088758</td>\n",
       "      <td>0.131525</td>\n",
       "      <td>-0.021096</td>\n",
       "      <td>0.031372</td>\n",
       "      <td>-0.013604</td>\n",
       "      <td>0.605852</td>\n",
       "    </tr>\n",
       "    <tr>\n",
       "      <th>2ndFlrSF</th>\n",
       "      <td>0.005590</td>\n",
       "      <td>0.307886</td>\n",
       "      <td>0.080177</td>\n",
       "      <td>0.050986</td>\n",
       "      <td>0.295493</td>\n",
       "      <td>0.028942</td>\n",
       "      <td>0.010308</td>\n",
       "      <td>0.140024</td>\n",
       "      <td>0.174561</td>\n",
       "      <td>-0.137079</td>\n",
       "      <td>...</td>\n",
       "      <td>0.092165</td>\n",
       "      <td>0.208026</td>\n",
       "      <td>0.061989</td>\n",
       "      <td>-0.024358</td>\n",
       "      <td>0.040606</td>\n",
       "      <td>0.081487</td>\n",
       "      <td>0.016197</td>\n",
       "      <td>0.035164</td>\n",
       "      <td>-0.028700</td>\n",
       "      <td>0.319334</td>\n",
       "    </tr>\n",
       "    <tr>\n",
       "      <th>LowQualFinSF</th>\n",
       "      <td>-0.044230</td>\n",
       "      <td>0.046474</td>\n",
       "      <td>0.038469</td>\n",
       "      <td>0.004779</td>\n",
       "      <td>-0.030429</td>\n",
       "      <td>0.025494</td>\n",
       "      <td>-0.183784</td>\n",
       "      <td>-0.062419</td>\n",
       "      <td>-0.069071</td>\n",
       "      <td>-0.064503</td>\n",
       "      <td>...</td>\n",
       "      <td>-0.025444</td>\n",
       "      <td>0.018251</td>\n",
       "      <td>0.061081</td>\n",
       "      <td>-0.004296</td>\n",
       "      <td>0.026799</td>\n",
       "      <td>0.062157</td>\n",
       "      <td>-0.003793</td>\n",
       "      <td>-0.022174</td>\n",
       "      <td>-0.028921</td>\n",
       "      <td>-0.025606</td>\n",
       "    </tr>\n",
       "    <tr>\n",
       "      <th>GrLivArea</th>\n",
       "      <td>0.008273</td>\n",
       "      <td>0.074853</td>\n",
       "      <td>0.402797</td>\n",
       "      <td>0.263116</td>\n",
       "      <td>0.593007</td>\n",
       "      <td>-0.079686</td>\n",
       "      <td>0.199010</td>\n",
       "      <td>0.287389</td>\n",
       "      <td>0.390857</td>\n",
       "      <td>0.208171</td>\n",
       "      <td>...</td>\n",
       "      <td>0.247433</td>\n",
       "      <td>0.330224</td>\n",
       "      <td>0.009113</td>\n",
       "      <td>0.020643</td>\n",
       "      <td>0.101510</td>\n",
       "      <td>0.170205</td>\n",
       "      <td>-0.002416</td>\n",
       "      <td>0.050240</td>\n",
       "      <td>-0.036526</td>\n",
       "      <td>0.708624</td>\n",
       "    </tr>\n",
       "    <tr>\n",
       "      <th>BsmtFullBath</th>\n",
       "      <td>0.002289</td>\n",
       "      <td>0.003491</td>\n",
       "      <td>0.100949</td>\n",
       "      <td>0.158155</td>\n",
       "      <td>0.111098</td>\n",
       "      <td>-0.054942</td>\n",
       "      <td>0.187599</td>\n",
       "      <td>0.119470</td>\n",
       "      <td>0.085310</td>\n",
       "      <td>0.649212</td>\n",
       "      <td>...</td>\n",
       "      <td>0.175315</td>\n",
       "      <td>0.067341</td>\n",
       "      <td>-0.049911</td>\n",
       "      <td>-0.000106</td>\n",
       "      <td>0.023148</td>\n",
       "      <td>0.067616</td>\n",
       "      <td>-0.023047</td>\n",
       "      <td>-0.025361</td>\n",
       "      <td>0.067049</td>\n",
       "      <td>0.227122</td>\n",
       "    </tr>\n",
       "    <tr>\n",
       "      <th>BsmtHalfBath</th>\n",
       "      <td>-0.020155</td>\n",
       "      <td>-0.002333</td>\n",
       "      <td>-0.007234</td>\n",
       "      <td>0.048046</td>\n",
       "      <td>-0.040150</td>\n",
       "      <td>0.117821</td>\n",
       "      <td>-0.038162</td>\n",
       "      <td>-0.012337</td>\n",
       "      <td>0.026673</td>\n",
       "      <td>0.067418</td>\n",
       "      <td>...</td>\n",
       "      <td>0.040161</td>\n",
       "      <td>-0.025324</td>\n",
       "      <td>-0.008555</td>\n",
       "      <td>0.035114</td>\n",
       "      <td>0.032121</td>\n",
       "      <td>0.020025</td>\n",
       "      <td>-0.007367</td>\n",
       "      <td>0.032873</td>\n",
       "      <td>-0.046524</td>\n",
       "      <td>-0.016844</td>\n",
       "    </tr>\n",
       "    <tr>\n",
       "      <th>FullBath</th>\n",
       "      <td>0.005587</td>\n",
       "      <td>0.131608</td>\n",
       "      <td>0.198769</td>\n",
       "      <td>0.126031</td>\n",
       "      <td>0.550600</td>\n",
       "      <td>-0.194149</td>\n",
       "      <td>0.468271</td>\n",
       "      <td>0.439046</td>\n",
       "      <td>0.276833</td>\n",
       "      <td>0.058543</td>\n",
       "      <td>...</td>\n",
       "      <td>0.187703</td>\n",
       "      <td>0.259977</td>\n",
       "      <td>-0.115093</td>\n",
       "      <td>0.035353</td>\n",
       "      <td>-0.008106</td>\n",
       "      <td>0.049604</td>\n",
       "      <td>-0.014290</td>\n",
       "      <td>0.055872</td>\n",
       "      <td>-0.019669</td>\n",
       "      <td>0.560664</td>\n",
       "    </tr>\n",
       "    <tr>\n",
       "      <th>HalfBath</th>\n",
       "      <td>0.006784</td>\n",
       "      <td>0.177354</td>\n",
       "      <td>0.053532</td>\n",
       "      <td>0.014259</td>\n",
       "      <td>0.273458</td>\n",
       "      <td>-0.060769</td>\n",
       "      <td>0.242656</td>\n",
       "      <td>0.183331</td>\n",
       "      <td>0.201444</td>\n",
       "      <td>0.004262</td>\n",
       "      <td>...</td>\n",
       "      <td>0.108080</td>\n",
       "      <td>0.199740</td>\n",
       "      <td>-0.095317</td>\n",
       "      <td>-0.004972</td>\n",
       "      <td>0.072426</td>\n",
       "      <td>0.022381</td>\n",
       "      <td>0.001290</td>\n",
       "      <td>-0.009050</td>\n",
       "      <td>-0.010269</td>\n",
       "      <td>0.284108</td>\n",
       "    </tr>\n",
       "    <tr>\n",
       "      <th>BedroomAbvGr</th>\n",
       "      <td>0.037719</td>\n",
       "      <td>-0.023438</td>\n",
       "      <td>0.263170</td>\n",
       "      <td>0.119690</td>\n",
       "      <td>0.101676</td>\n",
       "      <td>0.012980</td>\n",
       "      <td>-0.070651</td>\n",
       "      <td>-0.040581</td>\n",
       "      <td>0.102821</td>\n",
       "      <td>-0.107355</td>\n",
       "      <td>...</td>\n",
       "      <td>0.046854</td>\n",
       "      <td>0.093810</td>\n",
       "      <td>0.041570</td>\n",
       "      <td>-0.024478</td>\n",
       "      <td>0.044300</td>\n",
       "      <td>0.070703</td>\n",
       "      <td>0.007767</td>\n",
       "      <td>0.046544</td>\n",
       "      <td>-0.036014</td>\n",
       "      <td>0.168213</td>\n",
       "    </tr>\n",
       "    <tr>\n",
       "      <th>KitchenAbvGr</th>\n",
       "      <td>0.002951</td>\n",
       "      <td>0.281721</td>\n",
       "      <td>-0.006069</td>\n",
       "      <td>-0.017784</td>\n",
       "      <td>-0.183882</td>\n",
       "      <td>-0.087001</td>\n",
       "      <td>-0.174800</td>\n",
       "      <td>-0.149598</td>\n",
       "      <td>-0.037610</td>\n",
       "      <td>-0.081007</td>\n",
       "      <td>...</td>\n",
       "      <td>-0.090130</td>\n",
       "      <td>-0.070091</td>\n",
       "      <td>0.037312</td>\n",
       "      <td>-0.024600</td>\n",
       "      <td>-0.051613</td>\n",
       "      <td>-0.014525</td>\n",
       "      <td>0.062341</td>\n",
       "      <td>0.026589</td>\n",
       "      <td>0.031687</td>\n",
       "      <td>-0.135907</td>\n",
       "    </tr>\n",
       "    <tr>\n",
       "      <th>TotRmsAbvGrd</th>\n",
       "      <td>0.027239</td>\n",
       "      <td>0.040380</td>\n",
       "      <td>0.352096</td>\n",
       "      <td>0.190015</td>\n",
       "      <td>0.427452</td>\n",
       "      <td>-0.057583</td>\n",
       "      <td>0.095589</td>\n",
       "      <td>0.191740</td>\n",
       "      <td>0.280682</td>\n",
       "      <td>0.044316</td>\n",
       "      <td>...</td>\n",
       "      <td>0.165984</td>\n",
       "      <td>0.234192</td>\n",
       "      <td>0.004151</td>\n",
       "      <td>-0.006683</td>\n",
       "      <td>0.059383</td>\n",
       "      <td>0.083757</td>\n",
       "      <td>0.024763</td>\n",
       "      <td>0.036907</td>\n",
       "      <td>-0.034516</td>\n",
       "      <td>0.533723</td>\n",
       "    </tr>\n",
       "    <tr>\n",
       "      <th>Fireplaces</th>\n",
       "      <td>-0.019772</td>\n",
       "      <td>-0.045569</td>\n",
       "      <td>0.266639</td>\n",
       "      <td>0.271364</td>\n",
       "      <td>0.396765</td>\n",
       "      <td>-0.023820</td>\n",
       "      <td>0.147716</td>\n",
       "      <td>0.112581</td>\n",
       "      <td>0.249070</td>\n",
       "      <td>0.260011</td>\n",
       "      <td>...</td>\n",
       "      <td>0.200019</td>\n",
       "      <td>0.169405</td>\n",
       "      <td>-0.024822</td>\n",
       "      <td>0.011257</td>\n",
       "      <td>0.184530</td>\n",
       "      <td>0.095074</td>\n",
       "      <td>0.001409</td>\n",
       "      <td>0.046357</td>\n",
       "      <td>-0.024096</td>\n",
       "      <td>0.466929</td>\n",
       "    </tr>\n",
       "    <tr>\n",
       "      <th>GarageYrBlt</th>\n",
       "      <td>0.000072</td>\n",
       "      <td>0.085072</td>\n",
       "      <td>0.070250</td>\n",
       "      <td>-0.024947</td>\n",
       "      <td>0.547766</td>\n",
       "      <td>-0.324297</td>\n",
       "      <td>0.825667</td>\n",
       "      <td>0.642277</td>\n",
       "      <td>0.252691</td>\n",
       "      <td>0.153484</td>\n",
       "      <td>...</td>\n",
       "      <td>0.224577</td>\n",
       "      <td>0.228425</td>\n",
       "      <td>-0.297003</td>\n",
       "      <td>0.023544</td>\n",
       "      <td>-0.075418</td>\n",
       "      <td>-0.014501</td>\n",
       "      <td>-0.032417</td>\n",
       "      <td>0.005337</td>\n",
       "      <td>-0.001014</td>\n",
       "      <td>0.486362</td>\n",
       "    </tr>\n",
       "    <tr>\n",
       "      <th>GarageCars</th>\n",
       "      <td>0.016570</td>\n",
       "      <td>-0.040110</td>\n",
       "      <td>0.285691</td>\n",
       "      <td>0.154871</td>\n",
       "      <td>0.600671</td>\n",
       "      <td>-0.185758</td>\n",
       "      <td>0.537850</td>\n",
       "      <td>0.420622</td>\n",
       "      <td>0.364204</td>\n",
       "      <td>0.224054</td>\n",
       "      <td>...</td>\n",
       "      <td>0.226342</td>\n",
       "      <td>0.213569</td>\n",
       "      <td>-0.151434</td>\n",
       "      <td>0.035765</td>\n",
       "      <td>0.050494</td>\n",
       "      <td>0.020934</td>\n",
       "      <td>-0.043080</td>\n",
       "      <td>0.040522</td>\n",
       "      <td>-0.039117</td>\n",
       "      <td>0.640409</td>\n",
       "    </tr>\n",
       "    <tr>\n",
       "      <th>GarageArea</th>\n",
       "      <td>0.017634</td>\n",
       "      <td>-0.098672</td>\n",
       "      <td>0.344997</td>\n",
       "      <td>0.180403</td>\n",
       "      <td>0.562022</td>\n",
       "      <td>-0.151521</td>\n",
       "      <td>0.478954</td>\n",
       "      <td>0.371600</td>\n",
       "      <td>0.373066</td>\n",
       "      <td>0.296970</td>\n",
       "      <td>...</td>\n",
       "      <td>0.224666</td>\n",
       "      <td>0.241435</td>\n",
       "      <td>-0.121777</td>\n",
       "      <td>0.035087</td>\n",
       "      <td>0.051412</td>\n",
       "      <td>0.061047</td>\n",
       "      <td>-0.027400</td>\n",
       "      <td>0.027974</td>\n",
       "      <td>-0.027378</td>\n",
       "      <td>0.623431</td>\n",
       "    </tr>\n",
       "    <tr>\n",
       "      <th>WoodDeckSF</th>\n",
       "      <td>-0.029643</td>\n",
       "      <td>-0.012579</td>\n",
       "      <td>0.088521</td>\n",
       "      <td>0.171698</td>\n",
       "      <td>0.238923</td>\n",
       "      <td>-0.003334</td>\n",
       "      <td>0.224880</td>\n",
       "      <td>0.205726</td>\n",
       "      <td>0.159718</td>\n",
       "      <td>0.204306</td>\n",
       "      <td>...</td>\n",
       "      <td>1.000000</td>\n",
       "      <td>0.058661</td>\n",
       "      <td>-0.125989</td>\n",
       "      <td>-0.032771</td>\n",
       "      <td>-0.074181</td>\n",
       "      <td>0.073378</td>\n",
       "      <td>-0.009551</td>\n",
       "      <td>0.021011</td>\n",
       "      <td>0.022270</td>\n",
       "      <td>0.324413</td>\n",
       "    </tr>\n",
       "    <tr>\n",
       "      <th>OpenPorchSF</th>\n",
       "      <td>-0.000477</td>\n",
       "      <td>-0.006100</td>\n",
       "      <td>0.151972</td>\n",
       "      <td>0.084774</td>\n",
       "      <td>0.308819</td>\n",
       "      <td>-0.032589</td>\n",
       "      <td>0.188686</td>\n",
       "      <td>0.226298</td>\n",
       "      <td>0.125703</td>\n",
       "      <td>0.111761</td>\n",
       "      <td>...</td>\n",
       "      <td>0.058661</td>\n",
       "      <td>1.000000</td>\n",
       "      <td>-0.093079</td>\n",
       "      <td>-0.005842</td>\n",
       "      <td>0.074304</td>\n",
       "      <td>0.060762</td>\n",
       "      <td>-0.018584</td>\n",
       "      <td>0.071255</td>\n",
       "      <td>-0.057619</td>\n",
       "      <td>0.315856</td>\n",
       "    </tr>\n",
       "    <tr>\n",
       "      <th>EnclosedPorch</th>\n",
       "      <td>0.002889</td>\n",
       "      <td>-0.012037</td>\n",
       "      <td>0.010700</td>\n",
       "      <td>-0.018340</td>\n",
       "      <td>-0.113937</td>\n",
       "      <td>0.070356</td>\n",
       "      <td>-0.387268</td>\n",
       "      <td>-0.193919</td>\n",
       "      <td>-0.110204</td>\n",
       "      <td>-0.102303</td>\n",
       "      <td>...</td>\n",
       "      <td>-0.125989</td>\n",
       "      <td>-0.093079</td>\n",
       "      <td>1.000000</td>\n",
       "      <td>-0.037305</td>\n",
       "      <td>-0.082864</td>\n",
       "      <td>0.054203</td>\n",
       "      <td>0.018361</td>\n",
       "      <td>-0.028887</td>\n",
       "      <td>-0.009916</td>\n",
       "      <td>-0.128578</td>\n",
       "    </tr>\n",
       "    <tr>\n",
       "      <th>3SsnPorch</th>\n",
       "      <td>-0.046635</td>\n",
       "      <td>-0.043825</td>\n",
       "      <td>0.070029</td>\n",
       "      <td>0.020423</td>\n",
       "      <td>0.030371</td>\n",
       "      <td>0.025504</td>\n",
       "      <td>0.031355</td>\n",
       "      <td>0.045286</td>\n",
       "      <td>0.018796</td>\n",
       "      <td>0.026451</td>\n",
       "      <td>...</td>\n",
       "      <td>-0.032771</td>\n",
       "      <td>-0.005842</td>\n",
       "      <td>-0.037305</td>\n",
       "      <td>1.000000</td>\n",
       "      <td>-0.031436</td>\n",
       "      <td>-0.007992</td>\n",
       "      <td>0.000354</td>\n",
       "      <td>0.029474</td>\n",
       "      <td>0.018645</td>\n",
       "      <td>0.044584</td>\n",
       "    </tr>\n",
       "    <tr>\n",
       "      <th>ScreenPorch</th>\n",
       "      <td>0.001330</td>\n",
       "      <td>-0.026030</td>\n",
       "      <td>0.041383</td>\n",
       "      <td>0.043160</td>\n",
       "      <td>0.064886</td>\n",
       "      <td>0.054811</td>\n",
       "      <td>-0.050364</td>\n",
       "      <td>-0.038740</td>\n",
       "      <td>0.061466</td>\n",
       "      <td>0.062021</td>\n",
       "      <td>...</td>\n",
       "      <td>-0.074181</td>\n",
       "      <td>0.074304</td>\n",
       "      <td>-0.082864</td>\n",
       "      <td>-0.031436</td>\n",
       "      <td>1.000000</td>\n",
       "      <td>0.051307</td>\n",
       "      <td>0.031946</td>\n",
       "      <td>0.023217</td>\n",
       "      <td>0.010694</td>\n",
       "      <td>0.111447</td>\n",
       "    </tr>\n",
       "    <tr>\n",
       "      <th>PoolArea</th>\n",
       "      <td>0.057044</td>\n",
       "      <td>0.008283</td>\n",
       "      <td>0.206167</td>\n",
       "      <td>0.077672</td>\n",
       "      <td>0.065166</td>\n",
       "      <td>-0.001985</td>\n",
       "      <td>0.004950</td>\n",
       "      <td>0.005829</td>\n",
       "      <td>0.011723</td>\n",
       "      <td>0.140491</td>\n",
       "      <td>...</td>\n",
       "      <td>0.073378</td>\n",
       "      <td>0.060762</td>\n",
       "      <td>0.054203</td>\n",
       "      <td>-0.007992</td>\n",
       "      <td>0.051307</td>\n",
       "      <td>1.000000</td>\n",
       "      <td>0.029669</td>\n",
       "      <td>-0.033737</td>\n",
       "      <td>-0.059689</td>\n",
       "      <td>0.092404</td>\n",
       "    </tr>\n",
       "    <tr>\n",
       "      <th>MiscVal</th>\n",
       "      <td>-0.006242</td>\n",
       "      <td>-0.007683</td>\n",
       "      <td>0.003368</td>\n",
       "      <td>0.038068</td>\n",
       "      <td>-0.031406</td>\n",
       "      <td>0.068777</td>\n",
       "      <td>-0.034383</td>\n",
       "      <td>-0.010286</td>\n",
       "      <td>-0.029815</td>\n",
       "      <td>0.003571</td>\n",
       "      <td>...</td>\n",
       "      <td>-0.009551</td>\n",
       "      <td>-0.018584</td>\n",
       "      <td>0.018361</td>\n",
       "      <td>0.000354</td>\n",
       "      <td>0.031946</td>\n",
       "      <td>0.029669</td>\n",
       "      <td>1.000000</td>\n",
       "      <td>-0.006495</td>\n",
       "      <td>0.004906</td>\n",
       "      <td>-0.021190</td>\n",
       "    </tr>\n",
       "    <tr>\n",
       "      <th>MoSold</th>\n",
       "      <td>0.021172</td>\n",
       "      <td>-0.013585</td>\n",
       "      <td>0.011200</td>\n",
       "      <td>0.001205</td>\n",
       "      <td>0.070815</td>\n",
       "      <td>-0.003511</td>\n",
       "      <td>0.012398</td>\n",
       "      <td>0.021490</td>\n",
       "      <td>-0.005965</td>\n",
       "      <td>-0.015727</td>\n",
       "      <td>...</td>\n",
       "      <td>0.021011</td>\n",
       "      <td>0.071255</td>\n",
       "      <td>-0.028887</td>\n",
       "      <td>0.029474</td>\n",
       "      <td>0.023217</td>\n",
       "      <td>-0.033737</td>\n",
       "      <td>-0.006495</td>\n",
       "      <td>1.000000</td>\n",
       "      <td>-0.145721</td>\n",
       "      <td>0.046432</td>\n",
       "    </tr>\n",
       "    <tr>\n",
       "      <th>YrSold</th>\n",
       "      <td>0.000712</td>\n",
       "      <td>-0.021407</td>\n",
       "      <td>0.007450</td>\n",
       "      <td>-0.014261</td>\n",
       "      <td>-0.027347</td>\n",
       "      <td>0.043950</td>\n",
       "      <td>-0.013618</td>\n",
       "      <td>0.035743</td>\n",
       "      <td>-0.008201</td>\n",
       "      <td>0.014359</td>\n",
       "      <td>...</td>\n",
       "      <td>0.022270</td>\n",
       "      <td>-0.057619</td>\n",
       "      <td>-0.009916</td>\n",
       "      <td>0.018645</td>\n",
       "      <td>0.010694</td>\n",
       "      <td>-0.059689</td>\n",
       "      <td>0.004906</td>\n",
       "      <td>-0.145721</td>\n",
       "      <td>1.000000</td>\n",
       "      <td>-0.028923</td>\n",
       "    </tr>\n",
       "    <tr>\n",
       "      <th>SalePrice</th>\n",
       "      <td>-0.021917</td>\n",
       "      <td>-0.084284</td>\n",
       "      <td>0.351799</td>\n",
       "      <td>0.263843</td>\n",
       "      <td>0.790982</td>\n",
       "      <td>-0.077856</td>\n",
       "      <td>0.522897</td>\n",
       "      <td>0.507101</td>\n",
       "      <td>0.477493</td>\n",
       "      <td>0.386420</td>\n",
       "      <td>...</td>\n",
       "      <td>0.324413</td>\n",
       "      <td>0.315856</td>\n",
       "      <td>-0.128578</td>\n",
       "      <td>0.044584</td>\n",
       "      <td>0.111447</td>\n",
       "      <td>0.092404</td>\n",
       "      <td>-0.021190</td>\n",
       "      <td>0.046432</td>\n",
       "      <td>-0.028923</td>\n",
       "      <td>1.000000</td>\n",
       "    </tr>\n",
       "  </tbody>\n",
       "</table>\n",
       "<p>38 rows × 38 columns</p>\n",
       "</div>"
      ],
      "text/plain": [
       "                     Id  MSSubClass  LotFrontage   LotArea  OverallQual  \\\n",
       "Id             1.000000    0.011156    -0.010601 -0.033226    -0.028365   \n",
       "MSSubClass     0.011156    1.000000    -0.386347 -0.139781     0.032628   \n",
       "LotFrontage   -0.010601   -0.386347     1.000000  0.426095     0.251646   \n",
       "LotArea       -0.033226   -0.139781     0.426095  1.000000     0.105806   \n",
       "OverallQual   -0.028365    0.032628     0.251646  0.105806     1.000000   \n",
       "OverallCond    0.012609   -0.059316    -0.059213 -0.005636    -0.091932   \n",
       "YearBuilt     -0.012713    0.027850     0.123349  0.014228     0.572323   \n",
       "YearRemodAdd  -0.021998    0.040581     0.088866  0.013788     0.550684   \n",
       "MasVnrArea    -0.050298    0.022936     0.193458  0.104160     0.411876   \n",
       "BsmtFinSF1    -0.005024   -0.069836     0.233633  0.214103     0.239666   \n",
       "BsmtFinSF2    -0.005968   -0.065649     0.049900  0.111170    -0.059119   \n",
       "BsmtUnfSF     -0.007940   -0.140759     0.132644 -0.002618     0.308159   \n",
       "TotalBsmtSF   -0.015415   -0.238518     0.392075  0.260833     0.537808   \n",
       "1stFlrSF       0.010496   -0.251758     0.457181  0.299475     0.476224   \n",
       "2ndFlrSF       0.005590    0.307886     0.080177  0.050986     0.295493   \n",
       "LowQualFinSF  -0.044230    0.046474     0.038469  0.004779    -0.030429   \n",
       "GrLivArea      0.008273    0.074853     0.402797  0.263116     0.593007   \n",
       "BsmtFullBath   0.002289    0.003491     0.100949  0.158155     0.111098   \n",
       "BsmtHalfBath  -0.020155   -0.002333    -0.007234  0.048046    -0.040150   \n",
       "FullBath       0.005587    0.131608     0.198769  0.126031     0.550600   \n",
       "HalfBath       0.006784    0.177354     0.053532  0.014259     0.273458   \n",
       "BedroomAbvGr   0.037719   -0.023438     0.263170  0.119690     0.101676   \n",
       "KitchenAbvGr   0.002951    0.281721    -0.006069 -0.017784    -0.183882   \n",
       "TotRmsAbvGrd   0.027239    0.040380     0.352096  0.190015     0.427452   \n",
       "Fireplaces    -0.019772   -0.045569     0.266639  0.271364     0.396765   \n",
       "GarageYrBlt    0.000072    0.085072     0.070250 -0.024947     0.547766   \n",
       "GarageCars     0.016570   -0.040110     0.285691  0.154871     0.600671   \n",
       "GarageArea     0.017634   -0.098672     0.344997  0.180403     0.562022   \n",
       "WoodDeckSF    -0.029643   -0.012579     0.088521  0.171698     0.238923   \n",
       "OpenPorchSF   -0.000477   -0.006100     0.151972  0.084774     0.308819   \n",
       "EnclosedPorch  0.002889   -0.012037     0.010700 -0.018340    -0.113937   \n",
       "3SsnPorch     -0.046635   -0.043825     0.070029  0.020423     0.030371   \n",
       "ScreenPorch    0.001330   -0.026030     0.041383  0.043160     0.064886   \n",
       "PoolArea       0.057044    0.008283     0.206167  0.077672     0.065166   \n",
       "MiscVal       -0.006242   -0.007683     0.003368  0.038068    -0.031406   \n",
       "MoSold         0.021172   -0.013585     0.011200  0.001205     0.070815   \n",
       "YrSold         0.000712   -0.021407     0.007450 -0.014261    -0.027347   \n",
       "SalePrice     -0.021917   -0.084284     0.351799  0.263843     0.790982   \n",
       "\n",
       "               OverallCond  YearBuilt  YearRemodAdd  MasVnrArea  BsmtFinSF1  \\\n",
       "Id                0.012609  -0.012713     -0.021998   -0.050298   -0.005024   \n",
       "MSSubClass       -0.059316   0.027850      0.040581    0.022936   -0.069836   \n",
       "LotFrontage      -0.059213   0.123349      0.088866    0.193458    0.233633   \n",
       "LotArea          -0.005636   0.014228      0.013788    0.104160    0.214103   \n",
       "OverallQual      -0.091932   0.572323      0.550684    0.411876    0.239666   \n",
       "OverallCond       1.000000  -0.375983      0.073741   -0.128101   -0.046231   \n",
       "YearBuilt        -0.375983   1.000000      0.592855    0.315707    0.249503   \n",
       "YearRemodAdd      0.073741   0.592855      1.000000    0.179618    0.128451   \n",
       "MasVnrArea       -0.128101   0.315707      0.179618    1.000000    0.264736   \n",
       "BsmtFinSF1       -0.046231   0.249503      0.128451    0.264736    1.000000   \n",
       "BsmtFinSF2        0.040229  -0.049107     -0.067759   -0.072319   -0.050117   \n",
       "BsmtUnfSF        -0.136841   0.149040      0.181133    0.114442   -0.495251   \n",
       "TotalBsmtSF      -0.171098   0.391452      0.291066    0.363936    0.522396   \n",
       "1stFlrSF         -0.144203   0.281986      0.240379    0.344501    0.445863   \n",
       "2ndFlrSF          0.028942   0.010308      0.140024    0.174561   -0.137079   \n",
       "LowQualFinSF      0.025494  -0.183784     -0.062419   -0.069071   -0.064503   \n",
       "GrLivArea        -0.079686   0.199010      0.287389    0.390857    0.208171   \n",
       "BsmtFullBath     -0.054942   0.187599      0.119470    0.085310    0.649212   \n",
       "BsmtHalfBath      0.117821  -0.038162     -0.012337    0.026673    0.067418   \n",
       "FullBath         -0.194149   0.468271      0.439046    0.276833    0.058543   \n",
       "HalfBath         -0.060769   0.242656      0.183331    0.201444    0.004262   \n",
       "BedroomAbvGr      0.012980  -0.070651     -0.040581    0.102821   -0.107355   \n",
       "KitchenAbvGr     -0.087001  -0.174800     -0.149598   -0.037610   -0.081007   \n",
       "TotRmsAbvGrd     -0.057583   0.095589      0.191740    0.280682    0.044316   \n",
       "Fireplaces       -0.023820   0.147716      0.112581    0.249070    0.260011   \n",
       "GarageYrBlt      -0.324297   0.825667      0.642277    0.252691    0.153484   \n",
       "GarageCars       -0.185758   0.537850      0.420622    0.364204    0.224054   \n",
       "GarageArea       -0.151521   0.478954      0.371600    0.373066    0.296970   \n",
       "WoodDeckSF       -0.003334   0.224880      0.205726    0.159718    0.204306   \n",
       "OpenPorchSF      -0.032589   0.188686      0.226298    0.125703    0.111761   \n",
       "EnclosedPorch     0.070356  -0.387268     -0.193919   -0.110204   -0.102303   \n",
       "3SsnPorch         0.025504   0.031355      0.045286    0.018796    0.026451   \n",
       "ScreenPorch       0.054811  -0.050364     -0.038740    0.061466    0.062021   \n",
       "PoolArea         -0.001985   0.004950      0.005829    0.011723    0.140491   \n",
       "MiscVal           0.068777  -0.034383     -0.010286   -0.029815    0.003571   \n",
       "MoSold           -0.003511   0.012398      0.021490   -0.005965   -0.015727   \n",
       "YrSold            0.043950  -0.013618      0.035743   -0.008201    0.014359   \n",
       "SalePrice        -0.077856   0.522897      0.507101    0.477493    0.386420   \n",
       "\n",
       "               ...  WoodDeckSF  OpenPorchSF  EnclosedPorch  3SsnPorch  \\\n",
       "Id             ...   -0.029643    -0.000477       0.002889  -0.046635   \n",
       "MSSubClass     ...   -0.012579    -0.006100      -0.012037  -0.043825   \n",
       "LotFrontage    ...    0.088521     0.151972       0.010700   0.070029   \n",
       "LotArea        ...    0.171698     0.084774      -0.018340   0.020423   \n",
       "OverallQual    ...    0.238923     0.308819      -0.113937   0.030371   \n",
       "OverallCond    ...   -0.003334    -0.032589       0.070356   0.025504   \n",
       "YearBuilt      ...    0.224880     0.188686      -0.387268   0.031355   \n",
       "YearRemodAdd   ...    0.205726     0.226298      -0.193919   0.045286   \n",
       "MasVnrArea     ...    0.159718     0.125703      -0.110204   0.018796   \n",
       "BsmtFinSF1     ...    0.204306     0.111761      -0.102303   0.026451   \n",
       "BsmtFinSF2     ...    0.067898     0.003093       0.036543  -0.029993   \n",
       "BsmtUnfSF      ...   -0.005316     0.129005      -0.002538   0.020764   \n",
       "TotalBsmtSF    ...    0.232019     0.247264      -0.095478   0.037384   \n",
       "1stFlrSF       ...    0.235459     0.211671      -0.065292   0.056104   \n",
       "2ndFlrSF       ...    0.092165     0.208026       0.061989  -0.024358   \n",
       "LowQualFinSF   ...   -0.025444     0.018251       0.061081  -0.004296   \n",
       "GrLivArea      ...    0.247433     0.330224       0.009113   0.020643   \n",
       "BsmtFullBath   ...    0.175315     0.067341      -0.049911  -0.000106   \n",
       "BsmtHalfBath   ...    0.040161    -0.025324      -0.008555   0.035114   \n",
       "FullBath       ...    0.187703     0.259977      -0.115093   0.035353   \n",
       "HalfBath       ...    0.108080     0.199740      -0.095317  -0.004972   \n",
       "BedroomAbvGr   ...    0.046854     0.093810       0.041570  -0.024478   \n",
       "KitchenAbvGr   ...   -0.090130    -0.070091       0.037312  -0.024600   \n",
       "TotRmsAbvGrd   ...    0.165984     0.234192       0.004151  -0.006683   \n",
       "Fireplaces     ...    0.200019     0.169405      -0.024822   0.011257   \n",
       "GarageYrBlt    ...    0.224577     0.228425      -0.297003   0.023544   \n",
       "GarageCars     ...    0.226342     0.213569      -0.151434   0.035765   \n",
       "GarageArea     ...    0.224666     0.241435      -0.121777   0.035087   \n",
       "WoodDeckSF     ...    1.000000     0.058661      -0.125989  -0.032771   \n",
       "OpenPorchSF    ...    0.058661     1.000000      -0.093079  -0.005842   \n",
       "EnclosedPorch  ...   -0.125989    -0.093079       1.000000  -0.037305   \n",
       "3SsnPorch      ...   -0.032771    -0.005842      -0.037305   1.000000   \n",
       "ScreenPorch    ...   -0.074181     0.074304      -0.082864  -0.031436   \n",
       "PoolArea       ...    0.073378     0.060762       0.054203  -0.007992   \n",
       "MiscVal        ...   -0.009551    -0.018584       0.018361   0.000354   \n",
       "MoSold         ...    0.021011     0.071255      -0.028887   0.029474   \n",
       "YrSold         ...    0.022270    -0.057619      -0.009916   0.018645   \n",
       "SalePrice      ...    0.324413     0.315856      -0.128578   0.044584   \n",
       "\n",
       "               ScreenPorch  PoolArea   MiscVal    MoSold    YrSold  SalePrice  \n",
       "Id                0.001330  0.057044 -0.006242  0.021172  0.000712  -0.021917  \n",
       "MSSubClass       -0.026030  0.008283 -0.007683 -0.013585 -0.021407  -0.084284  \n",
       "LotFrontage       0.041383  0.206167  0.003368  0.011200  0.007450   0.351799  \n",
       "LotArea           0.043160  0.077672  0.038068  0.001205 -0.014261   0.263843  \n",
       "OverallQual       0.064886  0.065166 -0.031406  0.070815 -0.027347   0.790982  \n",
       "OverallCond       0.054811 -0.001985  0.068777 -0.003511  0.043950  -0.077856  \n",
       "YearBuilt        -0.050364  0.004950 -0.034383  0.012398 -0.013618   0.522897  \n",
       "YearRemodAdd     -0.038740  0.005829 -0.010286  0.021490  0.035743   0.507101  \n",
       "MasVnrArea        0.061466  0.011723 -0.029815 -0.005965 -0.008201   0.477493  \n",
       "BsmtFinSF1        0.062021  0.140491  0.003571 -0.015727  0.014359   0.386420  \n",
       "BsmtFinSF2        0.088871  0.041709  0.004940 -0.015211  0.031706  -0.011378  \n",
       "BsmtUnfSF        -0.012579 -0.035092 -0.023837  0.034888 -0.041258   0.214479  \n",
       "TotalBsmtSF       0.084489  0.126053 -0.018479  0.013196 -0.014969   0.613581  \n",
       "1stFlrSF          0.088758  0.131525 -0.021096  0.031372 -0.013604   0.605852  \n",
       "2ndFlrSF          0.040606  0.081487  0.016197  0.035164 -0.028700   0.319334  \n",
       "LowQualFinSF      0.026799  0.062157 -0.003793 -0.022174 -0.028921  -0.025606  \n",
       "GrLivArea         0.101510  0.170205 -0.002416  0.050240 -0.036526   0.708624  \n",
       "BsmtFullBath      0.023148  0.067616 -0.023047 -0.025361  0.067049   0.227122  \n",
       "BsmtHalfBath      0.032121  0.020025 -0.007367  0.032873 -0.046524  -0.016844  \n",
       "FullBath         -0.008106  0.049604 -0.014290  0.055872 -0.019669   0.560664  \n",
       "HalfBath          0.072426  0.022381  0.001290 -0.009050 -0.010269   0.284108  \n",
       "BedroomAbvGr      0.044300  0.070703  0.007767  0.046544 -0.036014   0.168213  \n",
       "KitchenAbvGr     -0.051613 -0.014525  0.062341  0.026589  0.031687  -0.135907  \n",
       "TotRmsAbvGrd      0.059383  0.083757  0.024763  0.036907 -0.034516   0.533723  \n",
       "Fireplaces        0.184530  0.095074  0.001409  0.046357 -0.024096   0.466929  \n",
       "GarageYrBlt      -0.075418 -0.014501 -0.032417  0.005337 -0.001014   0.486362  \n",
       "GarageCars        0.050494  0.020934 -0.043080  0.040522 -0.039117   0.640409  \n",
       "GarageArea        0.051412  0.061047 -0.027400  0.027974 -0.027378   0.623431  \n",
       "WoodDeckSF       -0.074181  0.073378 -0.009551  0.021011  0.022270   0.324413  \n",
       "OpenPorchSF       0.074304  0.060762 -0.018584  0.071255 -0.057619   0.315856  \n",
       "EnclosedPorch    -0.082864  0.054203  0.018361 -0.028887 -0.009916  -0.128578  \n",
       "3SsnPorch        -0.031436 -0.007992  0.000354  0.029474  0.018645   0.044584  \n",
       "ScreenPorch       1.000000  0.051307  0.031946  0.023217  0.010694   0.111447  \n",
       "PoolArea          0.051307  1.000000  0.029669 -0.033737 -0.059689   0.092404  \n",
       "MiscVal           0.031946  0.029669  1.000000 -0.006495  0.004906  -0.021190  \n",
       "MoSold            0.023217 -0.033737 -0.006495  1.000000 -0.145721   0.046432  \n",
       "YrSold            0.010694 -0.059689  0.004906 -0.145721  1.000000  -0.028923  \n",
       "SalePrice         0.111447  0.092404 -0.021190  0.046432 -0.028923   1.000000  \n",
       "\n",
       "[38 rows x 38 columns]"
      ]
     },
     "execution_count": 6,
     "metadata": {},
     "output_type": "execute_result"
    }
   ],
   "source": [
    "#Crear la matriz de correlaciones con las columnas numéricas\n",
    "var_num = housing_df.select_dtypes(include = ['int64','float64']).reset_index(drop = True)\n",
    "corr_mat = var_num.corr()\n",
    "corr_mat"
   ]
  },
  {
   "cell_type": "code",
   "execution_count": 7,
   "metadata": {
    "colab": {
     "base_uri": "https://localhost:8080/"
    },
    "executionInfo": {
     "elapsed": 745,
     "status": "ok",
     "timestamp": 1611862416057,
     "user": {
      "displayName": "javier fernandez lasso",
      "photoUrl": "https://lh3.googleusercontent.com/a-/AOh14Gjka-wqbaXM4i9Mwuy-Q1w3uwgDweCVIgzyCok6HWM=s64",
      "userId": "08405858041863855651"
     },
     "user_tz": -60
    },
    "id": "Xv3sxki__ImI",
    "outputId": "3dbdca43-8de8-424b-9c5b-949b1048e25a"
   },
   "outputs": [
    {
     "name": "stdout",
     "output_type": "stream",
     "text": [
      "\u001b[1mListado de las variables con mayor influencia en el precio de venta junto a su coeficiente de correlación:\u001b[0m\n",
      "OverallQual 0.7909816005838047\n",
      "YearBuilt 0.5228973328794967\n",
      "YearRemodAdd 0.5071009671113867\n",
      "TotalBsmtSF 0.6135805515591944\n",
      "1stFlrSF 0.6058521846919166\n",
      "GrLivArea 0.7086244776126511\n",
      "FullBath 0.5606637627484452\n",
      "TotRmsAbvGrd 0.5337231555820238\n",
      "GarageCars 0.640409197258349\n",
      "GarageArea 0.6234314389183598\n",
      "SalePrice 1.0\n"
     ]
    }
   ],
   "source": [
    "#Encontrar las correlaciones más altas,\n",
    "print('\\033[1m'+'Listado de las variables con mayor influencia en el precio de venta junto a su coeficiente de correlación:'+'\\033[0m')\n",
    "important_var_list = []\n",
    "for i in range(0,len(corr_mat)):\n",
    "    if corr_mat['SalePrice'][i] > 0.5:\n",
    "        print('{} {}'.format(corr_mat.index[i],corr_mat.loc[corr_mat.index[i],'SalePrice']))\n",
    "        important_var_list.append(corr_mat.index[i])"
   ]
  },
  {
   "cell_type": "markdown",
   "metadata": {
    "id": "i0Cq4iPN_ImJ"
   },
   "source": [
    "Se puede observan que existen bastantes variables que tienen una fuerte correlación positiva con la variable a predecir. Destacar que solamente OverallQual supera el 0.75 de correlación con la variable SalePrice. Entre el resto de variables, se puede destacar:\n",
    "- **OverallQual (0.789538)**: Calidad general del material y del acabado\n",
    "- **GrLivArea (0.704105)**: Superficie habitable por encima del nivel del suelo en pies cuadrados.\n",
    "- **GarageCars (0.630105)**: Tamaño del garaje en capacidad de coches.\n",
    "- **GarageArea (0.617357)**: Tamaño del garaje en pies cuadrados.\n",
    "- **1stFlrSF (0.600659)**: Área en pies cuadrados de la primera planta.\n",
    "- **TotalBsmtSF(0.599015)**: Pies cuadrados totales del sótano. "
   ]
  },
  {
   "cell_type": "markdown",
   "metadata": {
    "id": "waX9uKLN_ImJ"
   },
   "source": [
    "# 2. Tratamiento de missing."
   ]
  },
  {
   "cell_type": "markdown",
   "metadata": {
    "id": "0vKi3Rh__ImJ"
   },
   "source": [
    "Identificamos las variables que faltan en cada columna:"
   ]
  },
  {
   "cell_type": "code",
   "execution_count": 8,
   "metadata": {
    "colab": {
     "base_uri": "https://localhost:8080/"
    },
    "executionInfo": {
     "elapsed": 1233,
     "status": "ok",
     "timestamp": 1611862420502,
     "user": {
      "displayName": "javier fernandez lasso",
      "photoUrl": "https://lh3.googleusercontent.com/a-/AOh14Gjka-wqbaXM4i9Mwuy-Q1w3uwgDweCVIgzyCok6HWM=s64",
      "userId": "08405858041863855651"
     },
     "user_tz": -60
    },
    "id": "UUZwItLW_ImK",
    "outputId": "5a8ab502-1dcc-4f9e-dae4-3a77b63fdba1"
   },
   "outputs": [
    {
     "name": "stdout",
     "output_type": "stream",
     "text": [
      "Columna: LotFrontage, N of NaN: 259, Index in Dataframe: 3\n",
      "Columna: Alley, N of NaN: 1369, Index in Dataframe: 6\n",
      "Columna: MasVnrType, N of NaN: 8, Index in Dataframe: 25\n",
      "Columna: MasVnrArea, N of NaN: 8, Index in Dataframe: 26\n",
      "Columna: BsmtQual, N of NaN: 37, Index in Dataframe: 30\n",
      "Columna: BsmtCond, N of NaN: 37, Index in Dataframe: 31\n",
      "Columna: BsmtExposure, N of NaN: 38, Index in Dataframe: 32\n",
      "Columna: BsmtFinType1, N of NaN: 37, Index in Dataframe: 33\n",
      "Columna: BsmtFinType2, N of NaN: 38, Index in Dataframe: 35\n",
      "Columna: Electrical, N of NaN: 1, Index in Dataframe: 42\n",
      "Columna: FireplaceQu, N of NaN: 690, Index in Dataframe: 57\n",
      "Columna: GarageType, N of NaN: 81, Index in Dataframe: 58\n",
      "Columna: GarageYrBlt, N of NaN: 81, Index in Dataframe: 59\n",
      "Columna: GarageFinish, N of NaN: 81, Index in Dataframe: 60\n",
      "Columna: GarageQual, N of NaN: 81, Index in Dataframe: 63\n",
      "Columna: GarageCond, N of NaN: 81, Index in Dataframe: 64\n",
      "Columna: PoolQC, N of NaN: 1453, Index in Dataframe: 72\n",
      "Columna: Fence, N of NaN: 1179, Index in Dataframe: 73\n",
      "Columna: MiscFeature, N of NaN: 1406, Index in Dataframe: 74\n"
     ]
    }
   ],
   "source": [
    "# Lista con los missing de cada columna\n",
    "missing = housing_df.isna().sum()\n",
    "# Creamos dataframe con columnas y missing values\n",
    "missing_df = pd.DataFrame([housing_df.columns,missing]).transpose()\n",
    "# Nos quedamos solo con  las columnas que tengan missing\n",
    "for index in missing_df.index:\n",
    "    if missing_df.iloc[index,1] > 0:\n",
    "        print('Columna: {}, N of NaN: {}, Index in Dataframe: {}'.format(missing_df.iloc[index,0],missing_df.iloc[index,1],index))\n"
   ]
  },
  {
   "cell_type": "markdown",
   "metadata": {
    "id": "5U00J5_J_ImK"
   },
   "source": [
    "Veremos ahora el porcentaje de missing en cada columna junto con una representación visual:"
   ]
  },
  {
   "cell_type": "code",
   "execution_count": 9,
   "metadata": {
    "colab": {
     "base_uri": "https://localhost:8080/",
     "height": 645
    },
    "executionInfo": {
     "elapsed": 903,
     "status": "ok",
     "timestamp": 1611862422841,
     "user": {
      "displayName": "javier fernandez lasso",
      "photoUrl": "https://lh3.googleusercontent.com/a-/AOh14Gjka-wqbaXM4i9Mwuy-Q1w3uwgDweCVIgzyCok6HWM=s64",
      "userId": "08405858041863855651"
     },
     "user_tz": -60
    },
    "id": "AhvqfWKb_ImK",
    "outputId": "b8e1f73b-b21d-4b25-afb0-156abdbae288"
   },
   "outputs": [
    {
     "data": {
      "text/html": [
       "<div>\n",
       "<style scoped>\n",
       "    .dataframe tbody tr th:only-of-type {\n",
       "        vertical-align: middle;\n",
       "    }\n",
       "\n",
       "    .dataframe tbody tr th {\n",
       "        vertical-align: top;\n",
       "    }\n",
       "\n",
       "    .dataframe thead th {\n",
       "        text-align: right;\n",
       "    }\n",
       "</style>\n",
       "<table border=\"1\" class=\"dataframe\">\n",
       "  <thead>\n",
       "    <tr style=\"text-align: right;\">\n",
       "      <th></th>\n",
       "      <th>percent_missing</th>\n",
       "    </tr>\n",
       "  </thead>\n",
       "  <tbody>\n",
       "    <tr>\n",
       "      <th>LotFrontage</th>\n",
       "      <td>17.739726</td>\n",
       "    </tr>\n",
       "    <tr>\n",
       "      <th>Alley</th>\n",
       "      <td>93.767123</td>\n",
       "    </tr>\n",
       "    <tr>\n",
       "      <th>MasVnrType</th>\n",
       "      <td>0.547945</td>\n",
       "    </tr>\n",
       "    <tr>\n",
       "      <th>MasVnrArea</th>\n",
       "      <td>0.547945</td>\n",
       "    </tr>\n",
       "    <tr>\n",
       "      <th>BsmtQual</th>\n",
       "      <td>2.534247</td>\n",
       "    </tr>\n",
       "    <tr>\n",
       "      <th>BsmtCond</th>\n",
       "      <td>2.534247</td>\n",
       "    </tr>\n",
       "    <tr>\n",
       "      <th>BsmtExposure</th>\n",
       "      <td>2.602740</td>\n",
       "    </tr>\n",
       "    <tr>\n",
       "      <th>BsmtFinType1</th>\n",
       "      <td>2.534247</td>\n",
       "    </tr>\n",
       "    <tr>\n",
       "      <th>BsmtFinType2</th>\n",
       "      <td>2.602740</td>\n",
       "    </tr>\n",
       "    <tr>\n",
       "      <th>Electrical</th>\n",
       "      <td>0.068493</td>\n",
       "    </tr>\n",
       "    <tr>\n",
       "      <th>FireplaceQu</th>\n",
       "      <td>47.260274</td>\n",
       "    </tr>\n",
       "    <tr>\n",
       "      <th>GarageType</th>\n",
       "      <td>5.547945</td>\n",
       "    </tr>\n",
       "    <tr>\n",
       "      <th>GarageYrBlt</th>\n",
       "      <td>5.547945</td>\n",
       "    </tr>\n",
       "    <tr>\n",
       "      <th>GarageFinish</th>\n",
       "      <td>5.547945</td>\n",
       "    </tr>\n",
       "    <tr>\n",
       "      <th>GarageQual</th>\n",
       "      <td>5.547945</td>\n",
       "    </tr>\n",
       "    <tr>\n",
       "      <th>GarageCond</th>\n",
       "      <td>5.547945</td>\n",
       "    </tr>\n",
       "    <tr>\n",
       "      <th>PoolQC</th>\n",
       "      <td>99.520548</td>\n",
       "    </tr>\n",
       "    <tr>\n",
       "      <th>Fence</th>\n",
       "      <td>80.753425</td>\n",
       "    </tr>\n",
       "    <tr>\n",
       "      <th>MiscFeature</th>\n",
       "      <td>96.301370</td>\n",
       "    </tr>\n",
       "  </tbody>\n",
       "</table>\n",
       "</div>"
      ],
      "text/plain": [
       "              percent_missing\n",
       "LotFrontage         17.739726\n",
       "Alley               93.767123\n",
       "MasVnrType           0.547945\n",
       "MasVnrArea           0.547945\n",
       "BsmtQual             2.534247\n",
       "BsmtCond             2.534247\n",
       "BsmtExposure         2.602740\n",
       "BsmtFinType1         2.534247\n",
       "BsmtFinType2         2.602740\n",
       "Electrical           0.068493\n",
       "FireplaceQu         47.260274\n",
       "GarageType           5.547945\n",
       "GarageYrBlt          5.547945\n",
       "GarageFinish         5.547945\n",
       "GarageQual           5.547945\n",
       "GarageCond           5.547945\n",
       "PoolQC              99.520548\n",
       "Fence               80.753425\n",
       "MiscFeature         96.301370"
      ]
     },
     "execution_count": 9,
     "metadata": {},
     "output_type": "execute_result"
    }
   ],
   "source": [
    "# Calculamos el porcentaje de missing values para cada atributo\n",
    "percent_missing = housing_df.isnull().sum() * 100 / len(housing_df)\n",
    "# Creamos un DataFrame con los porcentajes y el nombre de cada atributo\n",
    "missing_values_df = pd.DataFrame({'percent_missing': percent_missing})\n",
    "# Atributos con algun missing value\n",
    "missing_values_df[missing_values_df['percent_missing'] > 0.]"
   ]
  },
  {
   "cell_type": "code",
   "execution_count": 10,
   "metadata": {
    "colab": {
     "base_uri": "https://localhost:8080/",
     "height": 318
    },
    "executionInfo": {
     "elapsed": 4048,
     "status": "ok",
     "timestamp": 1611862427589,
     "user": {
      "displayName": "javier fernandez lasso",
      "photoUrl": "https://lh3.googleusercontent.com/a-/AOh14Gjka-wqbaXM4i9Mwuy-Q1w3uwgDweCVIgzyCok6HWM=s64",
      "userId": "08405858041863855651"
     },
     "user_tz": -60
    },
    "id": "wlWWM5lL_ImK",
    "outputId": "cf59bc11-a3ca-49b0-d13c-d55f95cb15b9"
   },
   "outputs": [
    {
     "data": {
      "image/png": "[encoded data removed]",
      "text/plain": [
       "<Figure size 720x360 with 1 Axes>"
      ]
     },
     "metadata": {
      "needs_background": "light"
     },
     "output_type": "display_data"
    }
   ],
   "source": [
    "missingno.matrix(housing_df,sparkline=False, figsize=(10,5), fontsize=12, color=(0.27, 0.52, 1.0));"
   ]
  },
  {
   "cell_type": "markdown",
   "metadata": {
    "id": "gyHxWInz_ImK"
   },
   "source": [
    "Ahora procederemos al tratamiento de las columnas con missing:"
   ]
  },
  {
   "cell_type": "markdown",
   "metadata": {
    "id": "bD_hY8vn_ImK"
   },
   "source": [
    "<b>Las columnas con más de un 10% de missing:</b>\n",
    "<p>El dataframe tiene 1460 filas, por tanto aquellas que presenten más de un 10 % de missing seran eliminadas directamente. Esto significa que las columnas con más de 146 casos de missing serán directamente eliminadas del dataframe.Concretamente:</p> \n",
    "<p> LotFrontage</p>\n",
    "<p>Alley</p>\n",
    "<p>FireplaceQu</p>\n",
    "<p>PoolQC</p>\n",
    "<p>Fence</p>\n",
    "<p>MiscFeature</p>"
   ]
  },
  {
   "cell_type": "code",
   "execution_count": 11,
   "metadata": {
    "id": "h3vTnzA8_ImK"
   },
   "outputs": [],
   "source": [
    "# Eliminamos las columnas con más de 10% de missing\n",
    "\n",
    "# Cogemos las columnas que nos interesan\n",
    "columns_to_drop = []\n",
    "for index in missing_df.index:\n",
    "    if missing_df.iloc[index,1] > 0.1*len(housing_df):\n",
    "        columns_to_drop.append(missing_df.iloc[index,0])\n",
    "        \n",
    "# Eliminamos las columnas del dataframe original\n",
    "housing_df.drop(columns_to_drop, axis = 1, inplace = True)"
   ]
  },
  {
   "cell_type": "markdown",
   "metadata": {
    "id": "X3EXvfid_ImK"
   },
   "source": [
    "Comprobamos visualmente como estas columnas han desaparecido:"
   ]
  },
  {
   "cell_type": "code",
   "execution_count": 12,
   "metadata": {
    "id": "10Y6BC2K_ImL",
    "outputId": "8a29d0e0-e045-495a-92db-09add0c1a7c4"
   },
   "outputs": [
    {
     "data": {
      "image/png": "[encoded data removed]",
      "text/plain": [
       "<Figure size 720x360 with 1 Axes>"
      ]
     },
     "metadata": {
      "needs_background": "light"
     },
     "output_type": "display_data"
    }
   ],
   "source": [
    "missingno.matrix(housing_df,sparkline=False, figsize=(10,5), fontsize=12, color=(0.27, 0.52, 1.0));"
   ]
  },
  {
   "cell_type": "markdown",
   "metadata": {
    "id": "NtLMOGvb_ImL"
   },
   "source": [
    "<b>Las columnas que quedan con datos NA:</b>\n",
    "<p> MasVnrType, N of NaN: 8</p> \n",
    "<p> MasVnrArea, N of NaN: 8</p> \n",
    "<p> BsmtQual, N of NaN: 37</p> \n",
    "<p> BsmtCond, N of NaN: 37</p> \n",
    "<p> BsmtExposure, N of NaN: 38 </p> \n",
    "<p> BsmtFinType1, N of NaN: 37 </p> \n",
    "<p> BsmtFinType2, N of NaN: 38 </p> \n",
    "<p> Electrical, N of NaN: 1</p> \n",
    "<p> GarageType, N of NaN: 81</p> \n",
    "<p> GarageYrBlt, N of NaN: 81</p> \n",
    "<p> GarageFinish, N of NaN: 81 </p> \n",
    "<p> GarageQual, N of NaN: 81</p> \n",
    "<p> GarageCond, N of NaN: 81</p>"
   ]
  },
  {
   "cell_type": "markdown",
   "metadata": {
    "id": "0Itsrf-R_ImL"
   },
   "source": [
    "<b>Garaje</b>"
   ]
  },
  {
   "cell_type": "markdown",
   "metadata": {
    "id": "bsSKbOWU_ImM"
   },
   "source": [
    "Para las cinco columnas relacionadas con la variable garaje observamos que los datos que faltan corresponden a las mismas viviendas para las cinco columnas. En este caso se ha considerado como solución el añadir una nueva categoría de dichas variables la categoria None, la cual significará que dichas casas no tienen garaje. Justificamos esta decisión en base a que para esas 81 viviendas el precio medio obtenido ha sido de 103317€ frente a los  185479€ del resto de viviendas con garaje ya que como se ha visto anteriormente, algunas de las columnas relacionadas con el garaje están fuertemente correlacionadas con el precio"
   ]
  },
  {
   "cell_type": "code",
   "execution_count": 13,
   "metadata": {
    "id": "nLDlOQoP_ImM"
   },
   "outputs": [],
   "source": [
    "#Analizar las variables que tengan información sobre el garage, \n",
    "#reemplazar valores NA con una categoría adicional denominada \"None\"\n",
    "\n",
    "#Las variables relacionadas con el garaje con: GarageType, GarageYrBlt, GarageFinish, GarageQual y GarageCond\n",
    "housing_df['GarageType'].fillna('None',inplace = True)\n",
    "housing_df['GarageYrBlt'].fillna('None',inplace = True)\n",
    "housing_df['GarageFinish'].fillna('None',inplace = True)\n",
    "housing_df['GarageQual'].fillna('None',inplace = True)\n",
    "housing_df['GarageCond'].fillna('None',inplace = True)"
   ]
  },
  {
   "cell_type": "markdown",
   "metadata": {
    "id": "UiNoH4_f_ImM"
   },
   "source": [
    "<b>MasVnrType</b>"
   ]
  },
  {
   "cell_type": "markdown",
   "metadata": {
    "id": "d2vcwoA5_ImN"
   },
   "source": [
    "Para rellenar los valores faltantes asociados a esta columna se ha utilizado la moda de las casas vecinas:"
   ]
  },
  {
   "cell_type": "code",
   "execution_count": 14,
   "metadata": {
    "id": "f0lUeNgd_ImN"
   },
   "outputs": [],
   "source": [
    "#MasVnrType: tipo de revestimiento de mampostería\n",
    "#Hacemos la moda de las casas vecinas e insertamos dicho valor\n",
    "#Cogemos las columnas MasVnrType vacías y las llenamos con '0'\n",
    "housing_df['MasVnrType'] = housing_df['MasVnrType'].fillna('0')\n",
    "mvt_df = housing_df[housing_df['MasVnrType']=='0']\n",
    "mvt_df.head()\n",
    "# de cada una de ellas \n",
    "for i in mvt_df.index:\n",
    "    #cogemos vemos su neighborhood\n",
    "    barrio = (mvt_df[\"Neighborhood\"][i])  \n",
    "    #vemos las casas en el mismo neighborhood\n",
    "    #y sacamos la moda del valor de MasVnrType\n",
    "    if barrio == 'Gilbert':\n",
    "        vecindario = housing_df[housing_df['Neighborhood']=='Gilbert']\n",
    "        moda = vecindario['MasVnrType'].mode()         \n",
    "    elif barrio == 'Crawfor':\n",
    "        vecindario = housing_df[housing_df['Neighborhood']=='Crawford']\n",
    "        moda = vecindario['MasVnrType'].mode()\n",
    "    elif barrio == 'Somerst':\n",
    "        vecindario = housing_df[housing_df['Neighborhood']=='Somerst']\n",
    "        moda = vecindario['MasVnrType'].mode()\n",
    "    elif barrio == 'SawyerW':\n",
    "        vecindario = housing_df[housing_df['Neighborhood']=='SawyerW']\n",
    "        moda = vecindario['MasVnrType'].mode()\n",
    "    elif barrio == 'NridgHt':\n",
    "        vecindario = housing_df[housing_df['Neighborhood']=='NridgHt']\n",
    "        moda = vecindario['MasVnrType'].mode()\n",
    "    elif barrio == 'CollgCr':\n",
    "        vecindario = housing_df[housing_df['Neighborhood']=='CollgCr']\n",
    "        moda = vecindario['MasVnrType'].mode()\n",
    "    else:\n",
    "        moda = '0'\n",
    "    \n",
    "    # Hay un elemento que esta vacío, por lo que en ese caso se le asigna 'None'\n",
    "    if len(moda) == 0:\n",
    "        moda = 'None'\n",
    "    else:\n",
    "        # El método mode devuelve un pandas.Series por lo que hay que obtener su elemento\n",
    "        moda = moda[0]\n",
    "    #sustituimos las columnas por su moda\n",
    "    housing_df.MasVnrType.replace({\"0\": moda})"
   ]
  },
  {
   "cell_type": "markdown",
   "metadata": {
    "id": "GoIPvwqq_ImN"
   },
   "source": [
    "<b>MasVnrArea</b>"
   ]
  },
  {
   "cell_type": "markdown",
   "metadata": {
    "id": "IJqBfgGp_ImN"
   },
   "source": [
    "Seguimos con la misma estrategia que con la variable MasVnrType, pero en este caso utilizando la media al tratarse de una variable numérica:"
   ]
  },
  {
   "cell_type": "code",
   "execution_count": 15,
   "metadata": {
    "id": "lgX7hP4u_ImN"
   },
   "outputs": [],
   "source": [
    "#MasVnrArea: área de revestimiento de mampostería en pies cuadrados\n",
    "#Igual que MasVnrType, pero con la media (variable numérica)\n",
    "# de cada una de ellas \n",
    "housing_df['MasVnrArea'] = housing_df['MasVnrArea'].fillna(0)\n",
    "mva_df = housing_df[housing_df['MasVnrArea']==0]\n",
    "mva_df.head()\n",
    "for i in mva_df.index:\n",
    "    #cogemos vemos su neighborhood\n",
    "    barrio = (mva_df[\"Neighborhood\"][i])  \n",
    "    #vemos las casas en el mismo neighborhood\n",
    "    #y sacamos la moda del valor de MasVnrType\n",
    "    if barrio == 'Gilbert':\n",
    "        vecindario = housing_df[housing_df['Neighborhood']=='Gilbert']\n",
    "        media = vecindario['MasVnrArea'].mean()         \n",
    "    elif barrio == 'Crawfor':\n",
    "        vecindario = housing_df[housing_df['Neighborhood']=='Crawford']\n",
    "        media = vecindario['MasVnrArea'].mean()\n",
    "    elif barrio == 'Somerst':\n",
    "        vecindario = housing_df[housing_df['Neighborhood']=='Somerst']\n",
    "        media = vecindario['MasVnrArea'].mean()\n",
    "    elif barrio == 'SawyerW':\n",
    "        vecindario = housing_df[housing_df['Neighborhood']=='SawyerW']\n",
    "        media = vecindario['MasVnrArea'].mean()\n",
    "    elif barrio == 'NridgHt':\n",
    "        vecindario = housing_df[housing_df['Neighborhood']=='NridgHt']\n",
    "        media = vecindario['MasVnrArea'].mean()\n",
    "    elif barrio == 'CollgCr':\n",
    "        vecindario = housing_df[housing_df['Neighborhood']=='CollgCr']\n",
    "        media = vecindario['MasVnrArea'].mean()\n",
    "    else:\n",
    "        media = 0\n",
    "\n",
    "    #sustituimos las columnas por su media\n",
    "    housing_df.MasVnrArea.replace({0: media})"
   ]
  },
  {
   "cell_type": "markdown",
   "metadata": {
    "id": "fQS7D4N4_ImN"
   },
   "source": [
    "<b>Basement (Sótano)</b>"
   ]
  },
  {
   "cell_type": "markdown",
   "metadata": {
    "id": "TTQEDExQ_ImN"
   },
   "source": [
    "En el caso del sotano hemos optado por la misma estrategia que con el garaje ya que no todas las casas tienen porque tener sotano."
   ]
  },
  {
   "cell_type": "code",
   "execution_count": 16,
   "metadata": {
    "id": "6ansve8f_ImN"
   },
   "outputs": [],
   "source": [
    "#todas las variables de Bsmt* se refieren al sótano y no todas las casas tienen porqué tener sótano\n",
    "#como vemos los datos que faltan son en todas 37-38 (37 las que no tienen sótano, +1 que no tiene 2 sótanos)\n",
    "#por lo que hacemos lo mismo que con ell garaje, les asignamos el valor None\n",
    "housing_df['BsmtQual'].fillna('None',inplace = True)\n",
    "housing_df['BsmtCond'].fillna('None',inplace = True)\n",
    "housing_df['BsmtExposure'].fillna('None',inplace = True)\n",
    "housing_df['BsmtFinType1'].fillna('None',inplace = True)\n",
    "housing_df['BsmtFinType2'].fillna('None',inplace = True)"
   ]
  },
  {
   "cell_type": "markdown",
   "metadata": {
    "id": "wtMtGxDY_ImN"
   },
   "source": [
    "<b>Electrical</b>"
   ]
  },
  {
   "cell_type": "markdown",
   "metadata": {
    "id": "pplxFnvK_ImO"
   },
   "source": [
    "En este caso utilizamos la moda de las casas vecinas para rellenar estos datos:"
   ]
  },
  {
   "cell_type": "code",
   "execution_count": 17,
   "metadata": {
    "id": "EgPNoln3_ImO",
    "outputId": "ac82aed3-b0b9-49ad-8e89-384ac3d17e63"
   },
   "outputs": [
    {
     "data": {
      "text/plain": [
       "0       SBrkr\n",
       "1       SBrkr\n",
       "2       SBrkr\n",
       "3       SBrkr\n",
       "4       SBrkr\n",
       "        ...  \n",
       "1455    SBrkr\n",
       "1456    SBrkr\n",
       "1457    SBrkr\n",
       "1458    FuseA\n",
       "1459    SBrkr\n",
       "Name: Electrical, Length: 1460, dtype: object"
      ]
     },
     "execution_count": 17,
     "metadata": {},
     "output_type": "execute_result"
    }
   ],
   "source": [
    "# Para la columna Electrical, cogemos sus casas vecinas y hacemos la moda\n",
    "housing_df['Electrical'] = housing_df['Electrical'].fillna('0')\n",
    "e_df = housing_df[housing_df['Electrical']==0]\n",
    "vecindario = housing_df[housing_df['Neighborhood']=='Timber']\n",
    "moda = vecindario['Electrical'].mode()\n",
    "housing_df.Electrical.replace({'0': moda[0]})"
   ]
  },
  {
   "cell_type": "markdown",
   "metadata": {
    "id": "Zroslkd-_ImO"
   },
   "source": [
    "Podemos apreciar como se han completado todos los datos faltantes:"
   ]
  },
  {
   "cell_type": "code",
   "execution_count": 18,
   "metadata": {
    "id": "4Mt2uL20_ImP",
    "outputId": "103af4cc-01ed-421f-bcdf-fe1522b56ce7"
   },
   "outputs": [
    {
     "data": {
      "image/png": "[encoded data removed]",
      "text/plain": [
       "<Figure size 720x360 with 1 Axes>"
      ]
     },
     "metadata": {
      "needs_background": "light"
     },
     "output_type": "display_data"
    }
   ],
   "source": [
    "missingno.matrix(housing_df,sparkline=False, figsize=(10,5), fontsize=12, color=(0.27, 0.52, 1.0));"
   ]
  },
  {
   "cell_type": "markdown",
   "metadata": {
    "id": "7eV_u2pn_ImP"
   },
   "source": [
    "# 3. Problema de Regresión"
   ]
  },
  {
   "cell_type": "markdown",
   "metadata": {
    "id": "7TjdLp_f_ImP"
   },
   "source": [
    "En primer lugar para las variables categoricas se obtendrán dummies ya que los modelos de arboles y random forest de sklearn no funcionan con variables categóricas. Además también se separarán los dataset de entrenamiento y test."
   ]
  },
  {
   "cell_type": "code",
   "execution_count": 19,
   "metadata": {
    "id": "NhFY3qLo_ImP"
   },
   "outputs": [],
   "source": [
    "# Obtener dummies\n",
    "training_df = pd.get_dummies(housing_df)\n",
    "#Separar la data en entrenamiento y test\n",
    "# Variables independientes (se retira el ID y la variable dependiente)\n",
    "cols = list(training_df.columns[1:len(training_df.columns)-1])\n",
    "X = training_df[cols].values\n",
    "# Variable a predecir: precio de la vivienda\n",
    "Y = training_df['SalePrice']\n",
    "# Division of dataset\n",
    "X_train, X_test, Y_train, Y_test = train_test_split(X, Y, test_size = 0.2, random_state = 3)"
   ]
  },
  {
   "cell_type": "markdown",
   "metadata": {
    "id": "4RF80587_nUM"
   },
   "source": [
    "#### **Baseline de regresión**\n",
    "Para poder demostrar que los modelos están aprendiendo de los datos, estos tendrán que superar un baseline determinado por un modelo cuyas predicciones son la media del valor de venta del conjunto de entrenamiento."
   ]
  },
  {
   "cell_type": "code",
   "execution_count": 20,
   "metadata": {
    "id": "PECxfdmD_1M8",
    "outputId": "a9f2b6f3-a705-4ada-faa4-7040407599fe"
   },
   "outputs": [
    {
     "name": "stdout",
     "output_type": "stream",
     "text": [
      "RMSE Baseline: 70348.66911469729\n"
     ]
    }
   ],
   "source": [
    "baseline_pred = np.zeros((len(Y_test), ))\n",
    "baseline_pred[:] = np.mean(Y_train)\n",
    "\n",
    "baseline_rmse = np.sqrt(mean_squared_error(Y_test, baseline_pred))\n",
    "\n",
    "print(f'RMSE Baseline: {baseline_rmse}')"
   ]
  },
  {
   "cell_type": "markdown",
   "metadata": {
    "id": "7UQAOZOc_ImP"
   },
   "source": [
    "<b>Árbol de decisión para problema de regresión</b>"
   ]
  },
  {
   "cell_type": "markdown",
   "metadata": {
    "id": "dwm-n2yw_ImQ"
   },
   "source": [
    "En primer lugar analizaremos la cantidad de niveles adecuada para el arbol. Para ello analizaremos el Score obtenido frente a la cantidad de niveles"
   ]
  },
  {
   "cell_type": "code",
   "execution_count": 21,
   "metadata": {
    "id": "O_31-ip2_ImQ",
    "outputId": "e95c9f83-ffac-4c6f-8a9b-91043e55891b"
   },
   "outputs": [
    {
     "data": {
      "image/png": "[encoded data removed]",
      "text/plain": [
       "<Figure size 432x288 with 1 Axes>"
      ]
     },
     "metadata": {
      "needs_background": "light"
     },
     "output_type": "display_data"
    }
   ],
   "source": [
    "reg_tree = tree.DecisionTreeRegressor(random_state=42)\n",
    "scores = []\n",
    "num_variables = len(list(training_df))\n",
    "n_niveles = range(1, num_variables + 1)\n",
    "for n in n_niveles:\n",
    "    reg_tree.set_params(max_depth = n)\n",
    "    reg_tree.fit(X_train, Y_train)\n",
    "    scores.append(reg_tree.score(X_test, Y_test))\n",
    "    \n",
    "plt.title(\"Score según nivel del árbol\")\n",
    "plt.xlabel(\"Número de niveles\")\n",
    "plt.ylabel(\"Score\")\n",
    "plt.plot(n_niveles[0:15], scores[0:15])\n",
    "plt.show()"
   ]
  },
  {
   "cell_type": "markdown",
   "metadata": {
    "id": "gpg6sGT__ImR"
   },
   "source": [
    "Se observa una convergencia del valor score a partir de 6 niveles, por lo que se elegirá un arbol de profundidad 6. A continuación se entrenará el modelo utilizando esta profundidad:"
   ]
  },
  {
   "cell_type": "markdown",
   "metadata": {
    "id": "0Yl8MgbFZt-W"
   },
   "source": [
    "**Entrenamiento del arbol de decisión**"
   ]
  },
  {
   "cell_type": "code",
   "execution_count": 22,
   "metadata": {
    "id": "r4MMDPbu_ImR",
    "outputId": "cf9e9105-6de2-4bb5-e173-9055a20a2cd6"
   },
   "outputs": [
    {
     "data": {
      "text/plain": [
       "DecisionTreeRegressor(max_depth=6, random_state=42)"
      ]
     },
     "execution_count": 22,
     "metadata": {},
     "output_type": "execute_result"
    }
   ],
   "source": [
    "# Entrenamiento del modelo\n",
    "reg_tree.set_params(max_depth = 6)\n",
    "reg_tree.fit(X_train, Y_train)"
   ]
  },
  {
   "cell_type": "code",
   "execution_count": 48,
   "metadata": {},
   "outputs": [
    {
     "data": {
      "image/png": "[encoded data removed]",
      "text/plain": [
       "<Figure size 720x360 with 1 Axes>"
      ]
     },
     "metadata": {
      "needs_background": "light"
     },
     "output_type": "display_data"
    }
   ],
   "source": [
    "#Graficamente\n",
    "fig = plt.figure(figsize=(10,5))\n",
    "_ = tree.plot_tree(reg_tree,filled=True)"
   ]
  },
  {
   "cell_type": "markdown",
   "metadata": {
    "id": "AqOL1KiGZt-X"
   },
   "source": [
    "A continuación vamos a calcular el error en el conjunto de entrenamiento, para ver como se comporta el modelo en datos que ya ha visto, de esta forma podremos comparar este error con el de test y detectar signos de underfitting u overfitting."
   ]
  },
  {
   "cell_type": "code",
   "execution_count": 23,
   "metadata": {
    "id": "fzmc8CkCZt-X",
    "outputId": "2a9c0097-435c-49a4-b4cd-8415c56ecdc2"
   },
   "outputs": [
    {
     "name": "stdout",
     "output_type": "stream",
     "text": [
      "Training RMSE: 1848.9851668651431\n"
     ]
    }
   ],
   "source": [
    "y_train_pred = reg_tree.predict(X_train)\n",
    "training_rmse = np.sqrt(mean_squared_error(Y_train, y_train_pred))\n",
    "\n",
    "print(f'Training RMSE: {training_rmse}')"
   ]
  },
  {
   "cell_type": "markdown",
   "metadata": {
    "id": "kYjPIdRo_ImR"
   },
   "source": [
    "A continuación se evaluará el modelo entrenado mediante la utilización del dataset de test y aplicación de metricas"
   ]
  },
  {
   "cell_type": "code",
   "execution_count": 24,
   "metadata": {
    "id": "lZ6HuLuy_ImR"
   },
   "outputs": [],
   "source": [
    "Y_hat =  reg_tree.predict(X_test)"
   ]
  },
  {
   "cell_type": "markdown",
   "metadata": {
    "id": "9pNRSQCg_ImS"
   },
   "source": [
    "Las metricas elegidas para evaluar el modelo serán el RMSE y el coeficiente de determinación R2:"
   ]
  },
  {
   "cell_type": "code",
   "execution_count": 25,
   "metadata": {
    "id": "kx7wo4d3_ImS",
    "outputId": "4be2502a-4307-4108-e4cd-f51d7f5c4cfa"
   },
   "outputs": [
    {
     "name": "stdout",
     "output_type": "stream",
     "text": [
      "RMSE: 1914.856497622138\n",
      "R2 score: 0.9992574238355422\n"
     ]
    }
   ],
   "source": [
    "print(\"RMSE: {}\".format(np.sqrt(mean_squared_error(Y_test, Y_hat))))\n",
    "print(\"R2 score: {}\".format(r2_score(Y_test, Y_hat)))"
   ]
  },
  {
   "cell_type": "markdown",
   "metadata": {
    "id": "mQqiCkJ5Zt-Y"
   },
   "source": [
    "De estos resultados podemos determinar que el modelo se esta comportando bastante bien. Supera con creces el error del baseline (RMSE de 70269) y además el RMSE del conjunto de test es similar al del conjunto de entrenamiento, por lo que descartamos que exista overfitting. Es un error muy bueno teniendo en cuenta que los precios se mueven en rango de valores muy altos, por lo que también descartamos que exista underfitting."
   ]
  },
  {
   "cell_type": "markdown",
   "metadata": {
    "id": "amjisflv_ImS"
   },
   "source": [
    "<b>Random Forest para problema de regresión</b>"
   ]
  },
  {
   "cell_type": "markdown",
   "metadata": {
    "id": "tc10Nlof_ImS"
   },
   "source": [
    "En primer lugar analizaremos utilizando diferentes hiperparámetros para ver cuales aportan mejores resultados"
   ]
  },
  {
   "cell_type": "code",
   "execution_count": 26,
   "metadata": {
    "id": "5utiFIIP_ImS"
   },
   "outputs": [],
   "source": [
    "# Probar con diferentes valores de hiperparámetros (Se demora algunos minutos)\n",
    "def obtener_mejor_configuracion(modelo, x, y, num_arboles):\n",
    "    scores = [[],[],[]]\n",
    "    errors = [[],[],[]]\n",
    "    \n",
    "    for n in num_arboles:\n",
    "        #Primer caso\n",
    "        modelo.set_params(n_estimators=n, max_features='auto')\n",
    "        modelo.fit(x, y)\n",
    "        scores[0].append(modelo.score(x, y))\n",
    "        errors[0].append(1 - modelo.oob_score_)\n",
    "        #Segundo caso\n",
    "        modelo.set_params(n_estimators=n, max_features=189) # Ojo el p/2 hay que ponerlo manualmente\n",
    "        modelo.fit(x, y)\n",
    "        scores[1].append(modelo.score(x, y))\n",
    "        errors[1].append(1 - modelo.oob_score_)\n",
    "        #Tercer caso\n",
    "        modelo.set_params(n_estimators=n, max_features='sqrt')\n",
    "        modelo.fit(x, y)\n",
    "        scores[2].append(modelo.score(x, y))\n",
    "        errors[2].append(1 - modelo.oob_score_)\n",
    "        \n",
    "    fig, ax = plt.subplots(1 ,2, figsize=(12, 4))\n",
    "\n",
    "    ax[0].set_title(\"Score según el número de árboles\")\n",
    "    ax[0].set_xlabel(\"Número de árboles\")\n",
    "    ax[0].set_ylabel(\"score\")\n",
    "    ax[0].plot(num_arboles, scores[0], label='m=p')\n",
    "    ax[0].plot(num_arboles, scores[1], label='m=p/2')\n",
    "    ax[0].plot(num_arboles, scores[2], label='m=sqrt(p)')\n",
    "    ax[0].legend()\n",
    "\n",
    "    ax[1].set_title(\"Error OOB según el número de árboles\")\n",
    "    ax[1].set_xlabel(\"Número de árboles\")\n",
    "    ax[1].set_ylabel(\"error\")\n",
    "    ax[1].plot(num_arboles, errors[0], label='m=p')\n",
    "    ax[1].plot(num_arboles, errors[1], label='m=p/2')\n",
    "    ax[1].plot(num_arboles, errors[2], label='m=sqrt(p)')\n",
    "    ax[1].legend()\n",
    "    plt.show()\n",
    "    \n",
    "    return scores, errors"
   ]
  },
  {
   "cell_type": "code",
   "execution_count": 27,
   "metadata": {
    "id": "hJWT15NM_ImS",
    "outputId": "3bd006fd-a1f1-4753-ea6f-d9bb1ab471ce"
   },
   "outputs": [
    {
     "data": {
      "image/png": "[encoded data removed]",
      "text/plain": [
       "<Figure size 864x288 with 2 Axes>"
      ]
     },
     "metadata": {
      "needs_background": "light"
     },
     "output_type": "display_data"
    }
   ],
   "source": [
    "reg_rf = RandomForestRegressor(random_state=42, n_jobs=-1, oob_score=True)\n",
    "num_arboles = np.arange(30, 500, 20)\n",
    "scores, errors = obtener_mejor_configuracion(reg_rf, X_train, Y_train, num_arboles)"
   ]
  },
  {
   "cell_type": "markdown",
   "metadata": {
    "id": "p-pOV4MA_ImS"
   },
   "source": [
    "Puede observarse como el score más alto y el error más bajo se obtiene cuando m=p, es decir cuando trabajamos utilizando todas las columnas del dataframe. Para el número de arboles podemos analizar cuando el score ha sido mayor y el error menor:"
   ]
  },
  {
   "cell_type": "code",
   "execution_count": 28,
   "metadata": {
    "id": "980oOg6Y_ImT",
    "outputId": "5ecc1144-35f1-4c6b-acb5-176986603765"
   },
   "outputs": [
    {
     "name": "stdout",
     "output_type": "stream",
     "text": [
      "Con 60 árboles se obtuvo el mayor score\n",
      "Con 60 árboles se obtuvo el menor error OOB\n"
     ]
    }
   ],
   "source": [
    "# Obtener el número de árboles que obtuvo el mejor score y el menor error OOB\n",
    "print('Con {} árboles se obtuvo el mayor score'.format((np.argmax(scores[0]) + 3) * 20))\n",
    "print('Con {} árboles se obtuvo el menor error OOB'.format((np.argmin(errors[0]) + 3) * 20))"
   ]
  },
  {
   "cell_type": "markdown",
   "metadata": {
    "id": "d-r9bK70_ImU"
   },
   "source": [
    "Por tanto trabajaremos con m=p y 60 árboles:"
   ]
  },
  {
   "cell_type": "markdown",
   "metadata": {
    "id": "WMBtHwwHZt-b"
   },
   "source": [
    "**Entrenamiento del Random Forest**"
   ]
  },
  {
   "cell_type": "code",
   "execution_count": 29,
   "metadata": {
    "id": "t9ewSum__ImU",
    "outputId": "4c3abd20-b6d3-4ff6-f371-50b162b25929"
   },
   "outputs": [
    {
     "data": {
      "text/plain": [
       "RandomForestRegressor(n_estimators=60, n_jobs=-1, oob_score=True,\n",
       "                      random_state=42)"
      ]
     },
     "execution_count": 29,
     "metadata": {},
     "output_type": "execute_result"
    }
   ],
   "source": [
    "# Entrenamos el modelo\n",
    "reg_rf.set_params(n_estimators=60, max_features='auto')\n",
    "reg_rf.fit(X_train, Y_train)"
   ]
  },
  {
   "cell_type": "markdown",
   "metadata": {
    "id": "255zU4VYZt-b"
   },
   "source": [
    "De la misma forma que con el Decision Tree, vamos a calcular el error de entrenamiento para estudiar el comportamiento del modelo."
   ]
  },
  {
   "cell_type": "code",
   "execution_count": 30,
   "metadata": {
    "id": "gkWKB-07Zt-b",
    "outputId": "abb6831b-6d1a-4c52-8c17-735dec3c5d35"
   },
   "outputs": [
    {
     "name": "stdout",
     "output_type": "stream",
     "text": [
      "Training RMSE: 2219.3394503221616\n"
     ]
    }
   ],
   "source": [
    "y_train_pred = reg_rf.predict(X_train)\n",
    "training_rmse = np.sqrt(mean_squared_error(Y_train, y_train_pred))\n",
    "\n",
    "print(f'Training RMSE: {training_rmse}')"
   ]
  },
  {
   "cell_type": "markdown",
   "metadata": {
    "id": "W5r_uSeX_ImU"
   },
   "source": [
    "A continuación analizaremos el modelo realizando la predicción con el dataset de test y analizando las métricas obtenidas:"
   ]
  },
  {
   "cell_type": "code",
   "execution_count": 31,
   "metadata": {
    "id": "ZYVOUclb_ImU"
   },
   "outputs": [],
   "source": [
    "Y_hat1 = reg_rf.predict(X_test)"
   ]
  },
  {
   "cell_type": "markdown",
   "metadata": {
    "id": "SzUD-p2m_ImU"
   },
   "source": [
    "Las metricas elegidas para evaluar el modelo serán el RMSE y el coeficiente de determinación R2:"
   ]
  },
  {
   "cell_type": "code",
   "execution_count": 32,
   "metadata": {
    "id": "FlRZOmWG_ImU",
    "outputId": "d5f2758b-d429-477e-918d-7a540cccd4f9"
   },
   "outputs": [
    {
     "name": "stdout",
     "output_type": "stream",
     "text": [
      "RMSE: 1061.2171087055465\n",
      "R2 score: 0.9997719253457065\n"
     ]
    }
   ],
   "source": [
    "print(\"RMSE: {}\".format(np.sqrt(mean_squared_error(Y_test, Y_hat1))))\n",
    "print(\"R2 score: {}\".format(r2_score(Y_test, Y_hat1)))"
   ]
  },
  {
   "cell_type": "markdown",
   "metadata": {
    "id": "M_6BDtL5Zt-b"
   },
   "source": [
    "Podemos observar que de la misma forma que en el Decision Tree, el modelo de Random Forest supera ampliamente el baseline de regresión, por lo que este modelo también captura información de los datos. Si comparamos los errores de training y test, vemos que el error de test es inferior al de training, esto se puede deber a una cierta variabilidad al hacer el split de los datos, ya que, aunque sea de forma aleatoria, puede ocurrir que en el conjunto de test existan instancias sobre las que el modelo tenga mayor capacidad de predicción."
   ]
  },
  {
   "cell_type": "markdown",
   "metadata": {
    "id": "mpF8KhbQ_ImV"
   },
   "source": [
    "<b> Comentario de los resultados obtenidos por ámbos metodos </b>"
   ]
  },
  {
   "cell_type": "markdown",
   "metadata": {
    "id": "DodHIypQ_ImV"
   },
   "source": [
    "De acuerdo a los valores obtenidos de RMSE, el modelo que utiliza Random forest tiene menor error que el que utiliza un árbol. Concretamente se consigue una bajada de **1914**a **1061** al utilizar **Random forest**. Estos resultados tienen sentido puesto que el Random Forest es un ensemble de Decision Trees."
   ]
  },
  {
   "cell_type": "markdown",
   "metadata": {
    "id": "BWqn4Qti_ImV"
   },
   "source": [
    "# 4. Problema de Clasificación"
   ]
  },
  {
   "cell_type": "markdown",
   "metadata": {
    "id": "Sb5Z92MN_ImV"
   },
   "source": [
    "En primer lugar establecemos las diferentes categorias de precios de venta,a las cuales se les asignara una etiqueta del 1 al 3:"
   ]
  },
  {
   "cell_type": "code",
   "execution_count": 33,
   "metadata": {
    "id": "PNklS1DE_ImV",
    "outputId": "dddab82d-eeec-4c27-8900-9795310b855b"
   },
   "outputs": [
    {
     "data": {
      "text/html": [
       "<div>\n",
       "<style scoped>\n",
       "    .dataframe tbody tr th:only-of-type {\n",
       "        vertical-align: middle;\n",
       "    }\n",
       "\n",
       "    .dataframe tbody tr th {\n",
       "        vertical-align: top;\n",
       "    }\n",
       "\n",
       "    .dataframe thead th {\n",
       "        text-align: right;\n",
       "    }\n",
       "</style>\n",
       "<table border=\"1\" class=\"dataframe\">\n",
       "  <thead>\n",
       "    <tr style=\"text-align: right;\">\n",
       "      <th></th>\n",
       "      <th>Id</th>\n",
       "      <th>MSSubClass</th>\n",
       "      <th>LotArea</th>\n",
       "      <th>OverallQual</th>\n",
       "      <th>OverallCond</th>\n",
       "      <th>YearBuilt</th>\n",
       "      <th>YearRemodAdd</th>\n",
       "      <th>MasVnrArea</th>\n",
       "      <th>BsmtFinSF1</th>\n",
       "      <th>BsmtFinSF2</th>\n",
       "      <th>...</th>\n",
       "      <th>SaleType_New</th>\n",
       "      <th>SaleType_Oth</th>\n",
       "      <th>SaleType_WD</th>\n",
       "      <th>SaleCondition_Abnorml</th>\n",
       "      <th>SaleCondition_AdjLand</th>\n",
       "      <th>SaleCondition_Alloca</th>\n",
       "      <th>SaleCondition_Family</th>\n",
       "      <th>SaleCondition_Normal</th>\n",
       "      <th>SaleCondition_Partial</th>\n",
       "      <th>Grupo</th>\n",
       "    </tr>\n",
       "  </thead>\n",
       "  <tbody>\n",
       "    <tr>\n",
       "      <th>0</th>\n",
       "      <td>1</td>\n",
       "      <td>60</td>\n",
       "      <td>8450</td>\n",
       "      <td>7</td>\n",
       "      <td>5</td>\n",
       "      <td>2003</td>\n",
       "      <td>2003</td>\n",
       "      <td>196.0</td>\n",
       "      <td>706</td>\n",
       "      <td>0</td>\n",
       "      <td>...</td>\n",
       "      <td>0</td>\n",
       "      <td>0</td>\n",
       "      <td>1</td>\n",
       "      <td>0</td>\n",
       "      <td>0</td>\n",
       "      <td>0</td>\n",
       "      <td>0</td>\n",
       "      <td>1</td>\n",
       "      <td>0</td>\n",
       "      <td>2</td>\n",
       "    </tr>\n",
       "    <tr>\n",
       "      <th>1</th>\n",
       "      <td>2</td>\n",
       "      <td>20</td>\n",
       "      <td>9600</td>\n",
       "      <td>6</td>\n",
       "      <td>8</td>\n",
       "      <td>1976</td>\n",
       "      <td>1976</td>\n",
       "      <td>0.0</td>\n",
       "      <td>978</td>\n",
       "      <td>0</td>\n",
       "      <td>...</td>\n",
       "      <td>0</td>\n",
       "      <td>0</td>\n",
       "      <td>1</td>\n",
       "      <td>0</td>\n",
       "      <td>0</td>\n",
       "      <td>0</td>\n",
       "      <td>0</td>\n",
       "      <td>1</td>\n",
       "      <td>0</td>\n",
       "      <td>2</td>\n",
       "    </tr>\n",
       "    <tr>\n",
       "      <th>2</th>\n",
       "      <td>3</td>\n",
       "      <td>60</td>\n",
       "      <td>11250</td>\n",
       "      <td>7</td>\n",
       "      <td>5</td>\n",
       "      <td>2001</td>\n",
       "      <td>2002</td>\n",
       "      <td>162.0</td>\n",
       "      <td>486</td>\n",
       "      <td>0</td>\n",
       "      <td>...</td>\n",
       "      <td>0</td>\n",
       "      <td>0</td>\n",
       "      <td>1</td>\n",
       "      <td>0</td>\n",
       "      <td>0</td>\n",
       "      <td>0</td>\n",
       "      <td>0</td>\n",
       "      <td>1</td>\n",
       "      <td>0</td>\n",
       "      <td>2</td>\n",
       "    </tr>\n",
       "    <tr>\n",
       "      <th>3</th>\n",
       "      <td>4</td>\n",
       "      <td>70</td>\n",
       "      <td>9550</td>\n",
       "      <td>7</td>\n",
       "      <td>5</td>\n",
       "      <td>1915</td>\n",
       "      <td>1970</td>\n",
       "      <td>0.0</td>\n",
       "      <td>216</td>\n",
       "      <td>0</td>\n",
       "      <td>...</td>\n",
       "      <td>0</td>\n",
       "      <td>0</td>\n",
       "      <td>1</td>\n",
       "      <td>1</td>\n",
       "      <td>0</td>\n",
       "      <td>0</td>\n",
       "      <td>0</td>\n",
       "      <td>0</td>\n",
       "      <td>0</td>\n",
       "      <td>2</td>\n",
       "    </tr>\n",
       "    <tr>\n",
       "      <th>4</th>\n",
       "      <td>5</td>\n",
       "      <td>60</td>\n",
       "      <td>14260</td>\n",
       "      <td>8</td>\n",
       "      <td>5</td>\n",
       "      <td>2000</td>\n",
       "      <td>2000</td>\n",
       "      <td>350.0</td>\n",
       "      <td>655</td>\n",
       "      <td>0</td>\n",
       "      <td>...</td>\n",
       "      <td>0</td>\n",
       "      <td>0</td>\n",
       "      <td>1</td>\n",
       "      <td>0</td>\n",
       "      <td>0</td>\n",
       "      <td>0</td>\n",
       "      <td>0</td>\n",
       "      <td>1</td>\n",
       "      <td>0</td>\n",
       "      <td>2</td>\n",
       "    </tr>\n",
       "  </tbody>\n",
       "</table>\n",
       "<p>5 rows × 379 columns</p>\n",
       "</div>"
      ],
      "text/plain": [
       "   Id  MSSubClass  LotArea  OverallQual  OverallCond  YearBuilt  YearRemodAdd  \\\n",
       "0   1          60     8450            7            5       2003          2003   \n",
       "1   2          20     9600            6            8       1976          1976   \n",
       "2   3          60    11250            7            5       2001          2002   \n",
       "3   4          70     9550            7            5       1915          1970   \n",
       "4   5          60    14260            8            5       2000          2000   \n",
       "\n",
       "   MasVnrArea  BsmtFinSF1  BsmtFinSF2  ...  SaleType_New  SaleType_Oth  \\\n",
       "0       196.0         706           0  ...             0             0   \n",
       "1         0.0         978           0  ...             0             0   \n",
       "2       162.0         486           0  ...             0             0   \n",
       "3         0.0         216           0  ...             0             0   \n",
       "4       350.0         655           0  ...             0             0   \n",
       "\n",
       "   SaleType_WD  SaleCondition_Abnorml  SaleCondition_AdjLand  \\\n",
       "0            1                      0                      0   \n",
       "1            1                      0                      0   \n",
       "2            1                      0                      0   \n",
       "3            1                      1                      0   \n",
       "4            1                      0                      0   \n",
       "\n",
       "   SaleCondition_Alloca  SaleCondition_Family  SaleCondition_Normal  \\\n",
       "0                     0                     0                     1   \n",
       "1                     0                     0                     1   \n",
       "2                     0                     0                     1   \n",
       "3                     0                     0                     0   \n",
       "4                     0                     0                     1   \n",
       "\n",
       "   SaleCondition_Partial  Grupo  \n",
       "0                      0      2  \n",
       "1                      0      2  \n",
       "2                      0      2  \n",
       "3                      0      2  \n",
       "4                      0      2  \n",
       "\n",
       "[5 rows x 379 columns]"
      ]
     },
     "execution_count": 33,
     "metadata": {},
     "output_type": "execute_result"
    }
   ],
   "source": [
    "grupo=[]\n",
    "for i in training_df.index:\n",
    "    if training_df.loc[i, 'SalePrice']<= 100000:\n",
    "        grupo.append(1)\n",
    "    elif  100001 <= training_df.loc[i, 'SalePrice'] and training_df.loc[i, 'SalePrice'] <= 500000:\n",
    "        #grupo = grupo2\n",
    "        grupo.append(2)\n",
    "    elif  training_df.loc[i, 'SalePrice'] >= 500001:\n",
    "        grupo.append(3)\n",
    "    else:\n",
    "        print(i)\n",
    "#crear la nueva columna\n",
    "class_df=training_df\n",
    "class_df['Grupo']=grupo\n",
    "# Eliminamos la columna con el precio numérico para evitar overfitting\n",
    "class_df.drop('SalePrice', axis = 1, inplace = True)\n",
    "# Mostramos las primeras lineas del dataframe\n",
    "class_df.head()"
   ]
  },
  {
   "cell_type": "markdown",
   "metadata": {
    "id": "_JwqgGA6_ImV"
   },
   "source": [
    "A continuación procederemos a separar el dataset en los conjunto de entrenamiento y test:"
   ]
  },
  {
   "cell_type": "code",
   "execution_count": 34,
   "metadata": {
    "id": "IorgQs8G_ImV"
   },
   "outputs": [],
   "source": [
    "#Separar datos de entrenamiento y test\n",
    "cols2 = list(class_df.columns[1:len(class_df.columns)-1])\n",
    "X1= class_df[cols2].values\n",
    "Y1= class_df['Grupo']\n",
    "X_train1, X_test1, Y_train1, Y_test1 = train_test_split(X1,Y1, test_size=0.2)"
   ]
  },
  {
   "cell_type": "markdown",
   "metadata": {
    "id": "AGtAx81YZt-e"
   },
   "source": [
    "#### **Baseline de clasificación**:\n",
    "De la misma forma que en el problema de regresión, es necesario establecer un baseline para determinar si el modelo está aprendiendo de los datos. En el caso de clasificación, tomaremos como baseline un modelo cuyas predicciones sean todas de la clase mayoritaria."
   ]
  },
  {
   "cell_type": "code",
   "execution_count": 35,
   "metadata": {
    "id": "92NTfFusZt-e",
    "outputId": "6d8b43c9-fd6a-46d5-f9c8-78f2cf9e30b2"
   },
   "outputs": [
    {
     "name": "stdout",
     "output_type": "stream",
     "text": [
      "Baseline Accuracy: 0.8972602739726028\n"
     ]
    }
   ],
   "source": [
    "_, counts = np.unique(Y_train1, return_counts=True)\n",
    "majority = np.argmax(counts) + 1\n",
    "\n",
    "baseline_pred = np.zeros((len(Y_test1), ))\n",
    "baseline_pred[:] = majority\n",
    "\n",
    "baseline_acc = accuracy_score(Y_test1, baseline_pred)\n",
    "                     \n",
    "print(f'Baseline Accuracy: {baseline_acc}')"
   ]
  },
  {
   "cell_type": "markdown",
   "metadata": {
    "id": "MsiFA67TZt-e"
   },
   "source": [
    "Como vemos el baseline es bastante alto, esto significa que si en vez de utilizar un algoritmo de aprendizaje automático, clasificaramos las instancias como la clase mayoritaria, acertaŕiamos el 92% de las veces. El desbalanceo entre clases es lo que provoca este suceso."
   ]
  },
  {
   "cell_type": "markdown",
   "metadata": {
    "id": "Bb3GQmOE_ImV"
   },
   "source": [
    "<b> Árbol de decisión para problema de clasificación </b>"
   ]
  },
  {
   "cell_type": "markdown",
   "metadata": {
    "id": "KChto0TJ_ImV"
   },
   "source": [
    "Al igual que con el modelo de regresión, analizaremos en primer lugar cual es la profundidad óptima para el árbol:"
   ]
  },
  {
   "cell_type": "code",
   "execution_count": 36,
   "metadata": {
    "id": "V4peY3pU_ImW",
    "outputId": "d593af61-99e1-497d-c343-0c471adac6de"
   },
   "outputs": [
    {
     "data": {
      "image/png": "[encoded data removed]",
      "text/plain": [
       "<Figure size 432x288 with 1 Axes>"
      ]
     },
     "metadata": {
      "needs_background": "light"
     },
     "output_type": "display_data"
    }
   ],
   "source": [
    "class_tree = tree.DecisionTreeClassifier(random_state=42)\n",
    "scores = []\n",
    "num_variables = len(list(class_df))\n",
    "n_niveles = range(1, num_variables + 1)\n",
    "\n",
    "\n",
    "for n in n_niveles:\n",
    "    class_tree.set_params(max_depth = n)\n",
    "    class_tree.fit(X_train1, Y_train1)\n",
    "    scores.append(class_tree.score(X_test1, Y_test1))\n",
    "    \n",
    "plt.title(\"Score según nivel del árbol\")\n",
    "plt.xlabel(\"Número de niveles\")\n",
    "plt.ylabel(\"Score\")\n",
    "plt.plot(n_niveles[0:30], scores[0:30])\n",
    "plt.show()"
   ]
  },
  {
   "cell_type": "code",
   "execution_count": 37,
   "metadata": {
    "id": "5lSnftY7_ImW",
    "outputId": "beba8044-5874-4d53-e515-489cad65f055"
   },
   "outputs": [
    {
     "name": "stdout",
     "output_type": "stream",
     "text": [
      "Con 7 niveles se obtuvo el mayor score\n"
     ]
    }
   ],
   "source": [
    "print('Con {} niveles se obtuvo el mayor score'.format(np.argmax(scores)))"
   ]
  },
  {
   "cell_type": "markdown",
   "metadata": {
    "id": "e1ajRz6C_ImW"
   },
   "source": [
    "Por tanto escogeremos una profundidad de <b> 5 </b> para entrenar el árbol"
   ]
  },
  {
   "cell_type": "markdown",
   "metadata": {
    "id": "DTFUl1z0Zt-f"
   },
   "source": [
    "**Entrenamiento del modelo**"
   ]
  },
  {
   "cell_type": "code",
   "execution_count": 38,
   "metadata": {
    "id": "E8SpDfHG_ImW",
    "outputId": "5944da77-a4b6-4869-8d26-de4c0256b9ab"
   },
   "outputs": [
    {
     "data": {
      "text/plain": [
       "DecisionTreeClassifier(max_depth=7, random_state=42)"
      ]
     },
     "execution_count": 38,
     "metadata": {},
     "output_type": "execute_result"
    }
   ],
   "source": [
    "# Entrenamiento\n",
    "class_tree.set_params(max_depth = 7)\n",
    "class_tree.fit(X_train1, Y_train1)"
   ]
  },
  {
   "cell_type": "code",
   "execution_count": 49,
   "metadata": {},
   "outputs": [
    {
     "data": {
      "image/png": "[encoded data removed]",
      "text/plain": [
       "<Figure size 720x360 with 1 Axes>"
      ]
     },
     "metadata": {
      "needs_background": "light"
     },
     "output_type": "display_data"
    }
   ],
   "source": [
    "#Graficamente\n",
    "fig = plt.figure(figsize=(10,5))\n",
    "_ = tree.plot_tree(class_tree,filled=True)"
   ]
  },
  {
   "cell_type": "markdown",
   "metadata": {
    "id": "oWhIsujUZt-f"
   },
   "source": [
    "A continuación vamos a obtener el accuracy en el conjunto de entrenamiento para estudiar el comportamiento del modelo."
   ]
  },
  {
   "cell_type": "code",
   "execution_count": 39,
   "metadata": {
    "id": "KKNG1UmgZt-g",
    "outputId": "5ed35079-6da5-4ca8-93d0-43e03744ef7f"
   },
   "outputs": [
    {
     "name": "stdout",
     "output_type": "stream",
     "text": [
      "Training Accuracy: 0.985445205479452\n"
     ]
    }
   ],
   "source": [
    "training_pred = class_tree.predict(X_train1)\n",
    "training_acc = accuracy_score(Y_train1, training_pred)\n",
    "                     \n",
    "print(f'Training Accuracy: {training_acc}')"
   ]
  },
  {
   "cell_type": "markdown",
   "metadata": {
    "id": "UW1ZX2y9_ImX"
   },
   "source": [
    "A continuación se probará el modelo con el dataset de test y se analizarán los resultados utilizando la matriz de confusión y el accuracy:"
   ]
  },
  {
   "cell_type": "code",
   "execution_count": 40,
   "metadata": {
    "id": "WNjpKVOL_ImX"
   },
   "outputs": [],
   "source": [
    "# Realizamos la predicción\n",
    "Y_hat2 = class_tree.predict(X_test1)"
   ]
  },
  {
   "cell_type": "code",
   "execution_count": 41,
   "metadata": {
    "id": "TEH69IXa_ImX",
    "outputId": "4b45928f-31bf-44ba-e70a-ea5b8a6bbd89"
   },
   "outputs": [
    {
     "name": "stdout",
     "output_type": "stream",
     "text": [
      "Test Accuracy: 0.9246575342465754\n",
      "Matriz de confusión:\n"
     ]
    },
    {
     "data": {
      "text/plain": [
       "array([[ 16,  14,   0],\n",
       "       [  7, 254,   1],\n",
       "       [  0,   0,   0]], dtype=int64)"
      ]
     },
     "execution_count": 41,
     "metadata": {},
     "output_type": "execute_result"
    }
   ],
   "source": [
    "# Evaluamos la prediccion utilizando las metricas\n",
    "print(\"Test Accuracy: {}\".format(accuracy_score(Y_test1, Y_hat2)))\n",
    "print(\"Matriz de confusión:\")\n",
    "confusion_matrix(Y_test1,Y_hat2)"
   ]
  },
  {
   "cell_type": "markdown",
   "metadata": {
    "id": "PbfYkPSZZt-h"
   },
   "source": [
    "Podemos observar que el modelo en el conjunto de test obtiene peor resultado que el baseline, eso significa que el modelo tiene underfitting, no esta capturando la suficiente información de los datos para superar unas clasificaciones de la clase mayoritaria. Se tendría que mejorar el modelo añadiendo complejidad para poder superar al baseline y así poder estudiar si el modelo también sufre de overfitting."
   ]
  },
  {
   "cell_type": "markdown",
   "metadata": {
    "id": "ZTP1V7aM_ImX"
   },
   "source": [
    "<b> Random Forest para problema de Clasificación </b>"
   ]
  },
  {
   "cell_type": "markdown",
   "metadata": {
    "id": "oJFvSdtg_ImY"
   },
   "source": [
    "Al igual que en el caso de regresión, se comprobará que hiperparametros funcionan mejor para entrenar el modelo:"
   ]
  },
  {
   "cell_type": "code",
   "execution_count": 42,
   "metadata": {
    "id": "wn0LNERC_ImY",
    "outputId": "86742b43-f33a-4094-8563-971f20b176e0"
   },
   "outputs": [
    {
     "data": {
      "image/png": "[encoded data removed]",
      "text/plain": [
       "<Figure size 864x288 with 2 Axes>"
      ]
     },
     "metadata": {
      "needs_background": "light"
     },
     "output_type": "display_data"
    }
   ],
   "source": [
    "num_arboles = np.arange(30, 500, 20)\n",
    "class_rf = RandomForestClassifier(random_state=42, n_jobs=-1, oob_score=True)\n",
    "scores, errors = obtener_mejor_configuracion(class_rf, X_train1, Y_train1, num_arboles)"
   ]
  },
  {
   "cell_type": "code",
   "execution_count": 43,
   "metadata": {
    "id": "sXmoW9Se_ImY",
    "outputId": "e0932a9a-8c91-4aaf-b66c-0ae0efaafe02"
   },
   "outputs": [
    {
     "name": "stdout",
     "output_type": "stream",
     "text": [
      "Con 80 árboles se obtuvo el mayor score\n",
      "Con 60 árboles se obtuvo el menor error OOB\n"
     ]
    }
   ],
   "source": [
    "# Obtener el número de árboles que obtuvo el mejor score y el menor error OOB\n",
    "print('Con {} árboles se obtuvo el mayor score'.format((np.argmax(scores[1]) + 3) * 20))\n",
    "print('Con {} árboles se obtuvo el menor error OOB'.format((np.argmin(errors[1]) + 3) * 20))"
   ]
  },
  {
   "cell_type": "markdown",
   "metadata": {
    "id": "7yAs_57f_ImY"
   },
   "source": [
    "De acuerdo a las gráficas obtenidas m = p se encuentra solapado con m = sqrt(p). Sin embargo, utilizando m = p/2 se observa como se obtiene un mayor score con menos arboles y un menor error OBB. Por tanto, escogeremos m = p/2 y 80 árboles"
   ]
  },
  {
   "cell_type": "code",
   "execution_count": 44,
   "metadata": {
    "id": "Rrar0Owp_ImY",
    "outputId": "407a15de-3a96-401f-e2b0-0a0869e9fe8c"
   },
   "outputs": [
    {
     "data": {
      "text/plain": [
       "RandomForestClassifier(max_features=189, n_estimators=80, n_jobs=-1,\n",
       "                       oob_score=True, random_state=42)"
      ]
     },
     "execution_count": 44,
     "metadata": {},
     "output_type": "execute_result"
    }
   ],
   "source": [
    "# Entrenamos el modelo\n",
    "class_rf.set_params(n_estimators=80, max_features=189)\n",
    "class_rf.fit(X_train1, Y_train1)"
   ]
  },
  {
   "cell_type": "markdown",
   "metadata": {
    "id": "hTVGIE3eZt-i"
   },
   "source": [
    "A continuación se obtendrá el accuracy en el conjunto de entrenamiento."
   ]
  },
  {
   "cell_type": "code",
   "execution_count": 45,
   "metadata": {
    "id": "XPRmKY9ZZt-j",
    "outputId": "5a4d6272-3569-4d77-e44c-1de4b4d1333a"
   },
   "outputs": [
    {
     "name": "stdout",
     "output_type": "stream",
     "text": [
      "Training Accuracy: 1.0\n"
     ]
    }
   ],
   "source": [
    "training_pred = class_rf.predict(X_train1)\n",
    "training_acc = accuracy_score(Y_train1, training_pred)\n",
    "                     \n",
    "print(f'Training Accuracy: {training_acc}')"
   ]
  },
  {
   "cell_type": "markdown",
   "metadata": {
    "id": "N6dW4ETp_ImY"
   },
   "source": [
    "A continuación se probará el modelo con el dataset de test y se analizarán los resultados utilizando la matriz de confusión y el accuracy:"
   ]
  },
  {
   "cell_type": "code",
   "execution_count": 46,
   "metadata": {
    "id": "BGl79OCj_ImZ"
   },
   "outputs": [],
   "source": [
    "# Realizamos la predicción\n",
    "Y_hat3 = class_rf.predict(X_test1)"
   ]
  },
  {
   "cell_type": "code",
   "execution_count": 47,
   "metadata": {
    "id": "pzU9TlRV_ImZ",
    "outputId": "faf6e4ae-c6ad-4927-e977-13f8af420822"
   },
   "outputs": [
    {
     "name": "stdout",
     "output_type": "stream",
     "text": [
      "Accuracy: 0.9623287671232876\n",
      "Matriz de confusión:\n"
     ]
    },
    {
     "data": {
      "text/plain": [
       "array([[ 20,  10],\n",
       "       [  1, 261]], dtype=int64)"
      ]
     },
     "execution_count": 47,
     "metadata": {},
     "output_type": "execute_result"
    }
   ],
   "source": [
    "# Evaluamos la prediccion utilizando las metricas\n",
    "print(\"Accuracy: {}\".format(accuracy_score(Y_test1, Y_hat3)))\n",
    "print(\"Matriz de confusión:\")\n",
    "confusion_matrix(Y_test1,Y_hat3)"
   ]
  },
  {
   "cell_type": "markdown",
   "metadata": {
    "id": "-9-n1mGLZt-k"
   },
   "source": [
    "En este caso el Random Forest supera el accuracy de baseline, por lo que el modelo esta aprendiendo la suficiente información de los datos. Además, si comparamos los resultados en test y en entrenamiento, vemos que sigue habiendo diferencia, lo que muestra claramente la presencia de overfitting, por lo que habría que regularizar el modelo o reducir su complejidad."
   ]
  },
  {
   "cell_type": "markdown",
   "metadata": {
    "id": "zfJNbZoD_ImZ"
   },
   "source": [
    "<b> Comentario de los resultados obtenidos por ámbos metodos </b>"
   ]
  },
  {
   "cell_type": "markdown",
   "metadata": {
    "id": "mc8z-N79_ImZ"
   },
   "source": [
    "De acuerdo a los resultados obtenidos, utilizando el método de árbol de decisión se consigue un accuracy de 0.917 frente a los 0.952 obtenidos por el método de random forest, de ahi que lo escojamos como mejor solución."
   ]
  }
 ],
 "metadata": {
  "colab": {
   "collapsed_sections": [
    "4RF80587_nUM",
    "AGtAx81YZt-e"
   ],
   "name": "Actividad1_Equipo2.ipynb",
   "provenance": []
  },
  "kernelspec": {
   "display_name": "Python 3",
   "language": "python",
   "name": "python3"
  },
  "language_info": {
   "codemirror_mode": {
    "name": "ipython",
    "version": 3
   },
   "file_extension": ".py",
   "mimetype": "text/x-python",
   "name": "python",
   "nbconvert_exporter": "python",
   "pygments_lexer": "ipython3",
   "version": "3.8.3"
  }
 },
 "nbformat": 4,
 "nbformat_minor": 1
}
